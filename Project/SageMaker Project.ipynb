{
 "cells": [
  {
   "cell_type": "markdown",
   "metadata": {},
   "source": [
    "# Creating a Sentiment Analysis Web App\n",
    "## Using PyTorch and SageMaker\n",
    "\n",
    "_Deep Learning Nanodegree Program | Deployment_\n",
    "\n",
    "---\n",
    "\n",
    "Now that we have a basic understanding of how SageMaker works we will try to use it to construct a complete project from end to end. Our goal will be to have a simple web page which a user can use to enter a movie review. The web page will then send the review off to our deployed model which will predict the sentiment of the entered review.\n",
    "\n",
    "## Instructions\n",
    "\n",
    "Some template code has already been provided for you, and you will need to implement additional functionality to successfully complete this notebook. You will not need to modify the included code beyond what is requested. Sections that begin with '**TODO**' in the header indicate that you need to complete or implement some portion within them. Instructions will be provided for each section and the specifics of the implementation are marked in the code block with a `# TODO: ...` comment. Please be sure to read the instructions carefully!\n",
    "\n",
    "In addition to implementing code, there will be questions for you to answer which relate to the task and your implementation. Each section where you will answer a question is preceded by a '**Question:**' header. Carefully read each question and provide your answer below the '**Answer:**' header by editing the Markdown cell.\n",
    "\n",
    "> **Note**: Code and Markdown cells can be executed using the **Shift+Enter** keyboard shortcut. In addition, a cell can be edited by typically clicking it (double-click for Markdown cells) or by pressing **Enter** while it is highlighted.\n",
    "\n",
    "## General Outline\n",
    "\n",
    "Recall the general outline for SageMaker projects using a notebook instance.\n",
    "\n",
    "1. Download or otherwise retrieve the data.\n",
    "2. Process / Prepare the data.\n",
    "3. Upload the processed data to S3.\n",
    "4. Train a chosen model.\n",
    "5. Test the trained model (typically using a batch transform job).\n",
    "6. Deploy the trained model.\n",
    "7. Use the deployed model.\n",
    "\n",
    "For this project, you will be following the steps in the general outline with some modifications. \n",
    "\n",
    "First, you will not be testing the model in its own step. You will still be testing the model, however, you will do it by deploying your model and then using the deployed model by sending the test data to it. One of the reasons for doing this is so that you can make sure that your deployed model is working correctly before moving forward.\n",
    "\n",
    "In addition, you will deploy and use your trained model a second time. In the second iteration you will customize the way that your trained model is deployed by including some of your own code. In addition, your newly deployed model will be used in the sentiment analysis web app."
   ]
  },
  {
   "cell_type": "markdown",
   "metadata": {},
   "source": [
    "## Step 1: Downloading the data\n",
    "\n",
    "As in the XGBoost in SageMaker notebook, we will be using the [IMDb dataset](http://ai.stanford.edu/~amaas/data/sentiment/)\n",
    "\n",
    "> Maas, Andrew L., et al. [Learning Word Vectors for Sentiment Analysis](http://ai.stanford.edu/~amaas/data/sentiment/). In _Proceedings of the 49th Annual Meeting of the Association for Computational Linguistics: Human Language Technologies_. Association for Computational Linguistics, 2011."
   ]
  },
  {
   "cell_type": "code",
   "execution_count": 2,
   "metadata": {},
   "outputs": [],
   "source": [
    "# After downloading it once comment the cell\n",
    "# %mkdir ../data\n",
    "# !wget -O ../data/aclImdb_v1.tar.gz http://ai.stanford.edu/~amaas/data/sentiment/aclImdb_v1.tar.gz\n",
    "# !tar -zxf ../data/aclImdb_v1.tar.gz -C ../data"
   ]
  },
  {
   "cell_type": "markdown",
   "metadata": {},
   "source": [
    "## Step 2: Preparing and Processing the data\n",
    "\n",
    "Also, as in the XGBoost notebook, we will be doing some initial data processing. The first few steps are the same as in the XGBoost example. To begin with, we will read in each of the reviews and combine them into a single input structure. Then, we will split the dataset into a training set and a testing set."
   ]
  },
  {
   "cell_type": "code",
   "execution_count": 3,
   "metadata": {},
   "outputs": [],
   "source": [
    "import os\n",
    "import glob\n",
    "\n",
    "def read_imdb_data(data_dir='../data/aclImdb'):\n",
    "    data = {}\n",
    "    labels = {}\n",
    "    \n",
    "    for data_type in ['train', 'test']:\n",
    "        data[data_type] = {}\n",
    "        labels[data_type] = {}\n",
    "        \n",
    "        for sentiment in ['pos', 'neg']:\n",
    "            data[data_type][sentiment] = []\n",
    "            labels[data_type][sentiment] = []\n",
    "            \n",
    "            path = os.path.join(data_dir, data_type, sentiment, '*.txt')\n",
    "            files = glob.glob(path)\n",
    "            \n",
    "            for f in files:\n",
    "                with open(f) as review:\n",
    "                    data[data_type][sentiment].append(review.read())\n",
    "                    # Here we represent a positive review by '1' and a negative review by '0'\n",
    "                    labels[data_type][sentiment].append(1 if sentiment == 'pos' else 0)\n",
    "                    \n",
    "            assert len(data[data_type][sentiment]) == len(labels[data_type][sentiment]), \\\n",
    "                    \"{}/{} data size does not match labels size\".format(data_type, sentiment)\n",
    "                \n",
    "    return data, labels"
   ]
  },
  {
   "cell_type": "code",
   "execution_count": 4,
   "metadata": {},
   "outputs": [
    {
     "name": "stdout",
     "output_type": "stream",
     "text": [
      "IMDB reviews: train = 12500 pos / 12500 neg, test = 12500 pos / 12500 neg\n"
     ]
    }
   ],
   "source": [
    "data, labels = read_imdb_data()\n",
    "print(\"IMDB reviews: train = {} pos / {} neg, test = {} pos / {} neg\".format(\n",
    "            len(data['train']['pos']), len(data['train']['neg']),\n",
    "            len(data['test']['pos']), len(data['test']['neg'])))"
   ]
  },
  {
   "cell_type": "markdown",
   "metadata": {},
   "source": [
    "Now that we've read the raw training and testing data from the downloaded dataset, we will combine the positive and negative reviews and shuffle the resulting records."
   ]
  },
  {
   "cell_type": "code",
   "execution_count": 5,
   "metadata": {},
   "outputs": [],
   "source": [
    "from sklearn.utils import shuffle\n",
    "\n",
    "def prepare_imdb_data(data, labels):\n",
    "    \"\"\"Prepare training and test sets from IMDb movie reviews.\"\"\"\n",
    "    \n",
    "    #Combine positive and negative reviews and labels\n",
    "    data_train = data['train']['pos'] + data['train']['neg']\n",
    "    data_test = data['test']['pos'] + data['test']['neg']\n",
    "    labels_train = labels['train']['pos'] + labels['train']['neg']\n",
    "    labels_test = labels['test']['pos'] + labels['test']['neg']\n",
    "    \n",
    "    #Shuffle reviews and corresponding labels within training and test sets\n",
    "    data_train, labels_train = shuffle(data_train, labels_train)\n",
    "    data_test, labels_test = shuffle(data_test, labels_test)\n",
    "    \n",
    "    # Return a unified training data, test data, training labels, test labets\n",
    "    return data_train, data_test, labels_train, labels_test"
   ]
  },
  {
   "cell_type": "code",
   "execution_count": 6,
   "metadata": {},
   "outputs": [
    {
     "name": "stdout",
     "output_type": "stream",
     "text": [
      "IMDb reviews (combined): train = 25000, test = 25000\n"
     ]
    }
   ],
   "source": [
    "train_X, test_X, train_y, test_y = prepare_imdb_data(data, labels)\n",
    "print(\"IMDb reviews (combined): train = {}, test = {}\".format(len(train_X), len(test_X)))"
   ]
  },
  {
   "cell_type": "markdown",
   "metadata": {},
   "source": [
    "Now that we have our training and testing sets unified and prepared, we should do a quick check and see an example of the data our model will be trained on. This is generally a good idea as it allows you to see how each of the further processing steps affects the reviews and it also ensures that the data has been loaded correctly."
   ]
  },
  {
   "cell_type": "code",
   "execution_count": 7,
   "metadata": {},
   "outputs": [
    {
     "name": "stdout",
     "output_type": "stream",
     "text": [
      "I don't know what it is about this movie- director Sam Mraovich somehow messed up just about every little aspect in this movie. I would normally say that this is a movie that should not exist, but this movie may be the most important of all time. This movie should exist for the sole purpose of being without a doubt 'The Worst Movie Ever Made'. I've seen bad movies in my lifetime, but this somehow breaks what I considered bad into something much more hard to imagine.<br /><br />Everything in this movie is hilarious, but the single funniest thing is that Mraovich himself considers this to be a great movie.<br /><br />Oh wow...\n",
      "0\n"
     ]
    }
   ],
   "source": [
    "print(train_X[100])\n",
    "print(train_y[100])"
   ]
  },
  {
   "cell_type": "markdown",
   "metadata": {},
   "source": [
    "The first step in processing the reviews is to make sure that any html tags that appear should be removed. In addition we wish to tokenize our input, that way words such as *entertained* and *entertaining* are considered the same with regard to sentiment analysis."
   ]
  },
  {
   "cell_type": "code",
   "execution_count": 8,
   "metadata": {},
   "outputs": [],
   "source": [
    "import nltk\n",
    "from nltk.corpus import stopwords\n",
    "from nltk.stem.porter import *\n",
    "\n",
    "import re\n",
    "from bs4 import BeautifulSoup\n",
    "\n",
    "def review_to_words(review):\n",
    "    nltk.download(\"stopwords\", quiet=True)\n",
    "    stemmer = PorterStemmer()\n",
    "    \n",
    "    text = BeautifulSoup(review, \"html.parser\").get_text() # Remove HTML tags\n",
    "    text = re.sub(r\"[^a-zA-Z0-9]\", \" \", text.lower()) # Convert to lower case\n",
    "    words = text.split() # Split string into words\n",
    "    words = [w for w in words if w not in stopwords.words(\"english\")] # Remove stopwords\n",
    "    words = [PorterStemmer().stem(w) for w in words] # stem\n",
    "    \n",
    "    return words"
   ]
  },
  {
   "cell_type": "markdown",
   "metadata": {},
   "source": [
    "The `review_to_words` method defined above uses `BeautifulSoup` to remove any html tags that appear and uses the `nltk` package to tokenize the reviews. As a check to ensure we know how everything is working, try applying `review_to_words` to one of the reviews in the training set."
   ]
  },
  {
   "cell_type": "code",
   "execution_count": 9,
   "metadata": {},
   "outputs": [
    {
     "data": {
      "text/plain": [
       "['manmohan',\n",
       " 'desai',\n",
       " 'made',\n",
       " 'entertain',\n",
       " 'though',\n",
       " 'illog',\n",
       " 'film',\n",
       " 'like',\n",
       " 'aaa',\n",
       " 'parvarish',\n",
       " 'naseeb',\n",
       " 'made',\n",
       " 'crap',\n",
       " 'like',\n",
       " 'cooli',\n",
       " 'mard',\n",
       " 'gjsthi',\n",
       " 'movi',\n",
       " 'one',\n",
       " 'worst',\n",
       " 'movi',\n",
       " 'ever',\n",
       " 'made',\n",
       " 'dial',\n",
       " 'becam',\n",
       " 'famou',\n",
       " 'mard',\n",
       " 'ko',\n",
       " 'dard',\n",
       " 'nahin',\n",
       " 'hota',\n",
       " 'film',\n",
       " 'bad',\n",
       " 'cringeth',\n",
       " 'british',\n",
       " 'made',\n",
       " 'carricatur',\n",
       " 'film',\n",
       " 'look',\n",
       " 'weird',\n",
       " 'scene',\n",
       " 'british',\n",
       " 'hotel',\n",
       " 'damn',\n",
       " 'stupid',\n",
       " 'film',\n",
       " 'mani',\n",
       " 'stupid',\n",
       " 'like',\n",
       " 'amrita',\n",
       " 'assault',\n",
       " 'amitabh',\n",
       " 'entir',\n",
       " 'scene',\n",
       " 'plu',\n",
       " 'toward',\n",
       " 'climax',\n",
       " 'film',\n",
       " 'becom',\n",
       " 'even',\n",
       " 'wors',\n",
       " 'gem',\n",
       " 'like',\n",
       " 'hors',\n",
       " 'statu',\n",
       " 'get',\n",
       " 'life',\n",
       " 'mask',\n",
       " 'amitabh',\n",
       " 'haha',\n",
       " 'moredirect',\n",
       " 'manmohan',\n",
       " 'desai',\n",
       " 'bad',\n",
       " 'music',\n",
       " 'okayamitabh',\n",
       " 'part',\n",
       " 'style',\n",
       " 'noth',\n",
       " 'differ',\n",
       " 'cooli',\n",
       " 'laawari',\n",
       " 'type',\n",
       " 'role',\n",
       " 'amrita',\n",
       " 'singh',\n",
       " 'okay',\n",
       " 'satyen',\n",
       " 'kapuu',\n",
       " 'okay',\n",
       " 'prem',\n",
       " 'chopra',\n",
       " 'usual',\n",
       " 'nirupa',\n",
       " 'roy',\n",
       " 'usual',\n",
       " 'self',\n",
       " 'dara',\n",
       " 'singh',\n",
       " 'also',\n",
       " 'usual']"
      ]
     },
     "execution_count": 9,
     "metadata": {},
     "output_type": "execute_result"
    }
   ],
   "source": [
    "# TODO: Apply review_to_words to a review (train_X[100] or any other review)\n",
    "review_to_words(train_X[0])"
   ]
  },
  {
   "cell_type": "markdown",
   "metadata": {},
   "source": [
    "**Question:** Above we mentioned that `review_to_words` method removes html formatting and allows us to tokenize the words found in a review, for example, converting *entertained* and *entertaining* into *entertain* so that they are treated as though they are the same word. What else, if anything, does this method do to the input?"
   ]
  },
  {
   "cell_type": "markdown",
   "metadata": {},
   "source": [
    "**Answer:**\n",
    "\n",
    "Remove HTML tags, convert all chars to lower case, split string into words (split on spaces), remove stopwords (like ‘the’, ‘is’, ‘are’. More about stopwords: https://pythonspot.com/nltk-stop-words/). And the last step is creating tokens."
   ]
  },
  {
   "cell_type": "markdown",
   "metadata": {},
   "source": [
    "The method below applies the `review_to_words` method to each of the reviews in the training and testing datasets. In addition it caches the results. This is because performing this processing step can take a long time. This way if you are unable to complete the notebook in the current session, you can come back without needing to process the data a second time."
   ]
  },
  {
   "cell_type": "code",
   "execution_count": 10,
   "metadata": {},
   "outputs": [],
   "source": [
    "import pickle\n",
    "\n",
    "cache_dir = os.path.join(\"../cache\", \"sentiment_analysis\")  # where to store cache files\n",
    "os.makedirs(cache_dir, exist_ok=True)  # ensure cache directory exists\n",
    "\n",
    "def preprocess_data(data_train, data_test, labels_train, labels_test,\n",
    "                    cache_dir=cache_dir, cache_file=\"preprocessed_data.pkl\"):\n",
    "    \"\"\"Convert each review to words; read from cache if available.\"\"\"\n",
    "\n",
    "    # If cache_file is not None, try to read from it first\n",
    "    cache_data = None\n",
    "    if cache_file is not None:\n",
    "        try:\n",
    "            with open(os.path.join(cache_dir, cache_file), \"rb\") as f:\n",
    "                cache_data = pickle.load(f)\n",
    "            print(\"Read preprocessed data from cache file:\", cache_file)\n",
    "        except:\n",
    "            pass  # unable to read from cache, but that's okay\n",
    "    \n",
    "    # If cache is missing, then do the heavy lifting\n",
    "    if cache_data is None:\n",
    "        # Preprocess training and test data to obtain words for each review\n",
    "        #words_train = list(map(review_to_words, data_train))\n",
    "        #words_test = list(map(review_to_words, data_test))\n",
    "        words_train = [review_to_words(review) for review in data_train]\n",
    "        words_test = [review_to_words(review) for review in data_test]\n",
    "        \n",
    "        # Write to cache file for future runs\n",
    "        if cache_file is not None:\n",
    "            cache_data = dict(words_train=words_train, words_test=words_test,\n",
    "                              labels_train=labels_train, labels_test=labels_test)\n",
    "            with open(os.path.join(cache_dir, cache_file), \"wb\") as f:\n",
    "                pickle.dump(cache_data, f)\n",
    "            print(\"Wrote preprocessed data to cache file:\", cache_file)\n",
    "    else:\n",
    "        # Unpack data loaded from cache file\n",
    "        words_train, words_test, labels_train, labels_test = (cache_data['words_train'],\n",
    "                cache_data['words_test'], cache_data['labels_train'], cache_data['labels_test'])\n",
    "    \n",
    "    return words_train, words_test, labels_train, labels_test"
   ]
  },
  {
   "cell_type": "code",
   "execution_count": 11,
   "metadata": {},
   "outputs": [
    {
     "name": "stdout",
     "output_type": "stream",
     "text": [
      "Wrote preprocessed data to cache file: preprocessed_data.pkl\n"
     ]
    }
   ],
   "source": [
    "# Preprocess data\n",
    "train_X, test_X, train_y, test_y = preprocess_data(train_X, test_X, train_y, test_y)"
   ]
  },
  {
   "cell_type": "markdown",
   "metadata": {},
   "source": [
    "## Transform the data\n",
    "\n",
    "In the XGBoost notebook we transformed the data from its word representation to a bag-of-words feature representation. For the model we are going to construct in this notebook we will construct a feature representation which is very similar. To start, we will represent each word as an integer. Of course, some of the words that appear in the reviews occur very infrequently and so likely don't contain much information for the purposes of sentiment analysis. The way we will deal with this problem is that we will fix the size of our working vocabulary and we will only include the words that appear most frequently. We will then combine all of the infrequent words into a single category and, in our case, we will label it as `1`.\n",
    "\n",
    "Since we will be using a recurrent neural network, it will be convenient if the length of each review is the same. To do this, we will fix a size for our reviews and then pad short reviews with the category 'no word' (which we will label `0`) and truncate long reviews."
   ]
  },
  {
   "cell_type": "markdown",
   "metadata": {},
   "source": [
    "### (TODO) Create a word dictionary\n",
    "\n",
    "To begin with, we need to construct a way to map words that appear in the reviews to integers. Here we fix the size of our vocabulary (including the 'no word' and 'infrequent' categories) to be `5000` but you may wish to change this to see how it affects the model.\n",
    "\n",
    "> **TODO:** Complete the implementation for the `build_dict()` method below. Note that even though the vocab_size is set to `5000`, we only want to construct a mapping for the most frequently appearing `4998` words. This is because we want to reserve the special labels `0` for 'no word' and `1` for 'infrequent word'."
   ]
  },
  {
   "cell_type": "code",
   "execution_count": 15,
   "metadata": {},
   "outputs": [],
   "source": [
    "import numpy as np\n",
    "from collections import Counter\n",
    "\n",
    "def build_dict(data, vocab_size = 5000):\n",
    "    \"\"\"Construct and return a dictionary mapping each of the most frequently appearing words to a unique integer.\"\"\"\n",
    "    \n",
    "    # TODO: Determine how often each word appears in `data`. Note that `data` is a list of sentences and that a\n",
    "    #       sentence is a list of words.\n",
    "    \n",
    "    # A dict storing the words that appear in the reviews along with how often they occur\n",
    "    word_count = Counter(np.concatenate(data, axis=0))\n",
    "    \n",
    "    # TODO: Sort the words found in `data` so that sorted_words[0] is the most frequently appearing word and\n",
    "    #       sorted_words[-1] is the least frequently appearing word.\n",
    "    \n",
    "    sorted_words = sorted(word_count, key=word_count.get, reverse=True)\n",
    "    \n",
    "    word_dict = {} # This is what we are building, a dictionary that translates words into integers\n",
    "    for idx, word in enumerate(sorted_words[:vocab_size - 2]): # The -2 is so that we save room for the 'no word'\n",
    "        word_dict[word] = idx + 2                              # 'infrequent' labels\n",
    "        \n",
    "    return word_dict"
   ]
  },
  {
   "cell_type": "code",
   "execution_count": 18,
   "metadata": {},
   "outputs": [
    {
     "name": "stdout",
     "output_type": "stream",
     "text": [
      "{'movi': 2, 'film': 3, 'one': 4, 'like': 5, 'time': 6, 'good': 7, 'make': 8, 'charact': 9, 'get': 10, 'see': 11, 'watch': 12, 'stori': 13, 'even': 14, 'would': 15, 'realli': 16, 'well': 17, 'scene': 18, 'look': 19, 'show': 20, 'much': 21, 'end': 22, 'peopl': 23, 'bad': 24, 'go': 25, 'great': 26, 'also': 27, 'first': 28, 'love': 29, 'think': 30, 'way': 31, 'act': 32, 'play': 33, 'made': 34, 'thing': 35, 'could': 36, 'know': 37, 'say': 38, 'seem': 39, 'work': 40, 'plot': 41, 'two': 42, 'actor': 43, 'year': 44, 'come': 45, 'mani': 46, 'seen': 47, 'take': 48, 'life': 49, 'want': 50, 'never': 51, 'littl': 52, 'best': 53, 'tri': 54, 'man': 55, 'ever': 56, 'give': 57, 'better': 58, 'still': 59, 'perform': 60, 'find': 61, 'feel': 62, 'part': 63, 'back': 64, 'use': 65, 'someth': 66, 'director': 67, 'actual': 68, 'interest': 69, 'lot': 70, 'real': 71, 'old': 72, 'cast': 73, 'though': 74, 'live': 75, 'star': 76, 'enjoy': 77, 'guy': 78, 'anoth': 79, 'new': 80, 'role': 81, 'noth': 82, '10': 83, 'funni': 84, 'music': 85, 'point': 86, 'start': 87, 'set': 88, 'girl': 89, 'origin': 90, 'day': 91, 'world': 92, 'everi': 93, 'believ': 94, 'turn': 95, 'quit': 96, 'direct': 97, 'us': 98, 'thought': 99, 'fact': 100, 'minut': 101, 'horror': 102, 'kill': 103, 'action': 104, 'comedi': 105, 'pretti': 106, 'young': 107, 'wonder': 108, 'happen': 109, 'around': 110, 'got': 111, 'effect': 112, 'right': 113, 'long': 114, 'howev': 115, 'big': 116, 'line': 117, 'famili': 118, 'enough': 119, 'seri': 120, 'may': 121, 'need': 122, 'fan': 123, 'bit': 124, 'script': 125, 'beauti': 126, 'person': 127, 'becom': 128, 'without': 129, 'must': 130, 'alway': 131, 'friend': 132, 'tell': 133, 'reason': 134, 'saw': 135, 'last': 136, 'final': 137, 'kid': 138, 'almost': 139, 'put': 140, 'least': 141, 'sure': 142, 'done': 143, 'whole': 144, 'place': 145, 'complet': 146, 'kind': 147, 'differ': 148, 'expect': 149, 'shot': 150, 'far': 151, 'mean': 152, 'anyth': 153, 'book': 154, 'laugh': 155, 'might': 156, 'name': 157, 'sinc': 158, 'begin': 159, '2': 160, 'probabl': 161, 'woman': 162, 'help': 163, 'entertain': 164, 'let': 165, 'screen': 166, 'call': 167, 'tv': 168, 'moment': 169, 'away': 170, 'read': 171, 'yet': 172, 'rather': 173, 'worst': 174, 'run': 175, 'fun': 176, 'lead': 177, 'hard': 178, 'audienc': 179, 'idea': 180, 'anyon': 181, 'episod': 182, 'american': 183, 'found': 184, 'appear': 185, 'bore': 186, 'especi': 187, 'although': 188, 'hope': 189, 'keep': 190, 'cours': 191, 'anim': 192, 'job': 193, 'goe': 194, 'move': 195, 'sens': 196, 'version': 197, 'dvd': 198, 'war': 199, 'money': 200, 'someon': 201, 'mind': 202, 'mayb': 203, 'problem': 204, 'true': 205, 'hous': 206, 'everyth': 207, 'nice': 208, 'second': 209, 'rate': 210, 'three': 211, 'night': 212, 'follow': 213, 'face': 214, 'recommend': 215, 'main': 216, 'product': 217, 'worth': 218, 'leav': 219, 'human': 220, 'special': 221, 'excel': 222, 'togeth': 223, 'wast': 224, 'sound': 225, 'everyon': 226, 'john': 227, 'hand': 228, '1': 229, 'father': 230, 'later': 231, 'eye': 232, 'said': 233, 'view': 234, 'instead': 235, 'review': 236, 'boy': 237, 'high': 238, 'hour': 239, 'miss': 240, 'classic': 241, 'talk': 242, 'wife': 243, 'understand': 244, 'left': 245, 'care': 246, 'black': 247, 'death': 248, 'open': 249, 'murder': 250, 'write': 251, 'half': 252, 'head': 253, 'rememb': 254, 'chang': 255, 'viewer': 256, 'fight': 257, 'gener': 258, 'surpris': 259, 'short': 260, 'includ': 261, 'die': 262, 'fall': 263, 'less': 264, 'els': 265, 'entir': 266, 'piec': 267, 'involv': 268, 'pictur': 269, 'simpli': 270, 'home': 271, 'top': 272, 'power': 273, 'total': 274, 'usual': 275, 'budget': 276, 'attempt': 277, 'suppos': 278, 'releas': 279, 'hollywood': 280, 'terribl': 281, 'song': 282, 'men': 283, 'possibl': 284, 'featur': 285, 'portray': 286, 'disappoint': 287, 'poor': 288, '3': 289, 'coupl': 290, 'stupid': 291, 'camera': 292, 'dead': 293, 'wrong': 294, 'low': 295, 'produc': 296, 'video': 297, 'either': 298, 'aw': 299, 'definit': 300, 'except': 301, 'rest': 302, 'given': 303, 'absolut': 304, 'women': 305, 'lack': 306, 'word': 307, 'writer': 308, 'titl': 309, 'talent': 310, 'decid': 311, 'full': 312, 'perfect': 313, 'along': 314, 'style': 315, 'close': 316, 'truli': 317, 'school': 318, 'emot': 319, 'save': 320, 'sex': 321, 'age': 322, 'next': 323, 'bring': 324, 'mr': 325, 'case': 326, 'killer': 327, 'heart': 328, 'comment': 329, 'sort': 330, 'creat': 331, 'perhap': 332, 'came': 333, 'brother': 334, 'sever': 335, 'joke': 336, 'art': 337, 'dialogu': 338, 'game': 339, 'small': 340, 'base': 341, 'flick': 342, 'written': 343, 'sequenc': 344, 'meet': 345, 'earli': 346, 'often': 347, 'other': 348, 'mother': 349, 'develop': 350, 'humor': 351, 'actress': 352, 'consid': 353, 'dark': 354, 'guess': 355, 'amaz': 356, 'unfortun': 357, 'light': 358, 'lost': 359, 'exampl': 360, 'cinema': 361, 'drama': 362, 'ye': 363, 'white': 364, 'experi': 365, 'imagin': 366, 'mention': 367, 'stop': 368, 'natur': 369, 'forc': 370, 'manag': 371, 'felt': 372, 'cut': 373, 'present': 374, 'children': 375, 'fail': 376, 'son': 377, 'qualiti': 378, 'car': 379, 'support': 380, 'ask': 381, 'hit': 382, 'side': 383, 'voic': 384, 'extrem': 385, 'impress': 386, 'wors': 387, 'evil': 388, 'stand': 389, 'went': 390, 'certainli': 391, 'basic': 392, 'oh': 393, 'overal': 394, 'favorit': 395, 'horribl': 396, 'mysteri': 397, 'number': 398, 'type': 399, 'danc': 400, 'wait': 401, 'hero': 402, 'alreadi': 403, '5': 404, 'learn': 405, 'matter': 406, '4': 407, 'michael': 408, 'genr': 409, 'fine': 410, 'despit': 411, 'throughout': 412, 'walk': 413, 'success': 414, 'histori': 415, 'question': 416, 'zombi': 417, 'town': 418, 'relationship': 419, 'realiz': 420, 'child': 421, 'past': 422, 'daughter': 423, 'late': 424, 'b': 425, 'wish': 426, 'hate': 427, 'credit': 428, 'event': 429, 'theme': 430, 'touch': 431, 'citi': 432, 'today': 433, 'sometim': 434, 'behind': 435, 'god': 436, 'twist': 437, 'sit': 438, 'stay': 439, 'annoy': 440, 'deal': 441, 'abl': 442, 'rent': 443, 'pleas': 444, 'edit': 445, 'blood': 446, 'deserv': 447, 'anyway': 448, 'comic': 449, 'appar': 450, 'soon': 451, 'gave': 452, 'etc': 453, 'level': 454, 'slow': 455, 'chanc': 456, 'score': 457, 'bodi': 458, 'brilliant': 459, 'incred': 460, 'figur': 461, 'situat': 462, 'self': 463, 'major': 464, 'stuff': 465, 'decent': 466, 'element': 467, 'dream': 468, 'return': 469, 'obvious': 470, 'order': 471, 'continu': 472, 'pace': 473, 'ridicul': 474, 'happi': 475, 'group': 476, 'add': 477, 'highli': 478, 'thank': 479, 'ladi': 480, 'novel': 481, 'speak': 482, 'pain': 483, 'career': 484, 'shoot': 485, 'strang': 486, 'heard': 487, 'sad': 488, 'polic': 489, 'husband': 490, 'import': 491, 'break': 492, 'took': 493, 'cannot': 494, 'strong': 495, 'robert': 496, 'predict': 497, 'violenc': 498, 'hilari': 499, 'recent': 500, 'countri': 501, 'known': 502, 'particularli': 503, 'pick': 504, 'documentari': 505, 'season': 506, 'critic': 507, 'jame': 508, 'compar': 509, 'obviou': 510, 'alon': 511, 'told': 512, 'state': 513, 'visual': 514, 'rock': 515, 'theater': 516, 'exist': 517, 'offer': 518, 'opinion': 519, 'gore': 520, 'crap': 521, 'hold': 522, 'result': 523, 'realiti': 524, 'hear': 525, 'room': 526, 'effort': 527, 'clich': 528, 'thriller': 529, 'caus': 530, 'serious': 531, 'explain': 532, 'sequel': 533, 'king': 534, 'local': 535, 'ago': 536, 'none': 537, 'hell': 538, 'note': 539, 'allow': 540, 'david': 541, 'sister': 542, 'simpl': 543, 'femal': 544, 'deliv': 545, 'ok': 546, 'convinc': 547, 'class': 548, 'check': 549, 'suspens': 550, 'win': 551, 'oscar': 552, 'buy': 553, 'huge': 554, 'valu': 555, 'sexual': 556, 'scari': 557, 'cool': 558, 'similar': 559, 'excit': 560, 'apart': 561, 'exactli': 562, 'provid': 563, 'shown': 564, 'avoid': 565, 'seriou': 566, 'english': 567, 'taken': 568, 'whose': 569, 'cinematographi': 570, 'shock': 571, 'polit': 572, 'spoiler': 573, 'offic': 574, 'across': 575, 'middl': 576, 'street': 577, 'pass': 578, 'messag': 579, 'somewhat': 580, 'silli': 581, 'charm': 582, 'modern': 583, 'filmmak': 584, 'confus': 585, 'form': 586, 'tale': 587, 'singl': 588, 'jack': 589, 'mostli': 590, 'attent': 591, 'william': 592, 'carri': 593, 'sing': 594, 'subject': 595, 'five': 596, 'richard': 597, 'prove': 598, 'team': 599, 'stage': 600, 'unlik': 601, 'cop': 602, 'georg': 603, 'televis': 604, 'monster': 605, 'earth': 606, 'villain': 607, 'cover': 608, 'pay': 609, 'marri': 610, 'toward': 611, 'build': 612, 'parent': 613, 'pull': 614, 'due': 615, 'fill': 616, 'respect': 617, 'dialog': 618, 'four': 619, 'remind': 620, 'futur': 621, 'weak': 622, 'typic': 623, '7': 624, 'cheap': 625, 'intellig': 626, 'british': 627, 'atmospher': 628, 'clearli': 629, '80': 630, 'dog': 631, 'non': 632, 'paul': 633, '8': 634, 'artist': 635, 'fast': 636, 'knew': 637, 'crime': 638, 'easili': 639, 'escap': 640, 'adult': 641, 'doubt': 642, 'detail': 643, 'date': 644, 'romant': 645, 'fire': 646, 'member': 647, 'drive': 648, 'gun': 649, 'straight': 650, 'beyond': 651, 'fit': 652, 'attack': 653, 'imag': 654, 'upon': 655, 'posit': 656, 'whether': 657, 'fantast': 658, 'peter': 659, 'captur': 660, 'appreci': 661, 'aspect': 662, 'ten': 663, 'plan': 664, 'discov': 665, 'remain': 666, 'near': 667, 'period': 668, 'air': 669, 'realist': 670, 'mark': 671, 'red': 672, 'dull': 673, 'adapt': 674, 'within': 675, 'spend': 676, 'lose': 677, 'color': 678, 'materi': 679, 'chase': 680, 'mari': 681, 'storylin': 682, 'forget': 683, 'bunch': 684, 'clear': 685, 'lee': 686, 'victim': 687, 'nearli': 688, 'box': 689, 'york': 690, 'inspir': 691, 'match': 692, 'mess': 693, 'finish': 694, 'standard': 695, 'easi': 696, 'truth': 697, 'busi': 698, 'suffer': 699, 'space': 700, 'bill': 701, 'dramat': 702, 'western': 703, 'e': 704, 'list': 705, 'battl': 706, 'notic': 707, 'de': 708, 'french': 709, 'ad': 710, '9': 711, 'tom': 712, 'larg': 713, 'among': 714, 'eventu': 715, 'train': 716, 'accept': 717, 'agre': 718, 'spirit': 719, 'soundtrack': 720, 'third': 721, 'teenag': 722, 'soldier': 723, 'adventur': 724, 'famou': 725, 'sorri': 726, 'suggest': 727, 'drug': 728, 'cri': 729, 'normal': 730, 'babi': 731, 'ultim': 732, 'troubl': 733, 'contain': 734, 'certain': 735, 'cultur': 736, 'romanc': 737, 'rare': 738, 'lame': 739, 'somehow': 740, 'mix': 741, 'disney': 742, 'gone': 743, 'cartoon': 744, 'student': 745, 'reveal': 746, 'fear': 747, 'kept': 748, 'suck': 749, 'attract': 750, 'appeal': 751, 'premis': 752, 'greatest': 753, 'secret': 754, 'design': 755, 'shame': 756, 'throw': 757, 'copi': 758, 'scare': 759, 'wit': 760, 'admit': 761, 'america': 762, 'particular': 763, 'relat': 764, 'brought': 765, 'screenplay': 766, 'whatev': 767, 'pure': 768, '70': 769, 'harri': 770, 'averag': 771, 'master': 772, 'describ': 773, 'male': 774, 'treat': 775, '20': 776, 'issu': 777, 'fantasi': 778, 'warn': 779, 'inde': 780, 'forward': 781, 'background': 782, 'free': 783, 'project': 784, 'japanes': 785, 'memor': 786, 'poorli': 787, 'award': 788, 'locat': 789, 'amus': 790, 'potenti': 791, 'struggl': 792, 'weird': 793, 'magic': 794, 'societi': 795, 'okay': 796, 'doctor': 797, 'accent': 798, 'imdb': 799, 'water': 800, 'hot': 801, 'alien': 802, 'dr': 803, '30': 804, 'express': 805, 'odd': 806, 'crazi': 807, 'choic': 808, 'studio': 809, 'fiction': 810, 'becam': 811, 'control': 812, 'masterpiec': 813, 'fli': 814, 'difficult': 815, 'joe': 816, 'scream': 817, 'costum': 818, 'lover': 819, 'refer': 820, 'uniqu': 821, 'remak': 822, 'girlfriend': 823, 'vampir': 824, 'prison': 825, 'execut': 826, 'wear': 827, 'jump': 828, 'wood': 829, 'unless': 830, 'creepi': 831, 'cheesi': 832, 'superb': 833, 'otherwis': 834, 'parti': 835, 'roll': 836, 'ghost': 837, 'mad': 838, 'public': 839, 'depict': 840, 'badli': 841, 'week': 842, 'moral': 843, 'earlier': 844, 'jane': 845, 'dumb': 846, 'fi': 847, 'flaw': 848, 'grow': 849, 'deep': 850, 'sci': 851, 'maker': 852, 'cat': 853, 'connect': 854, 'older': 855, 'footag': 856, 'plenti': 857, 'bother': 858, 'outsid': 859, 'stick': 860, 'gay': 861, 'catch': 862, 'plu': 863, 'co': 864, 'popular': 865, 'equal': 866, 'social': 867, 'quickli': 868, 'disturb': 869, 'perfectli': 870, 'dress': 871, 'era': 872, '90': 873, 'mistak': 874, 'lie': 875, 'ride': 876, 'previou': 877, 'combin': 878, 'concept': 879, 'band': 880, 'answer': 881, 'rich': 882, 'surviv': 883, 'front': 884, 'christma': 885, 'sweet': 886, 'insid': 887, 'eat': 888, 'concern': 889, 'bare': 890, 'listen': 891, 'beat': 892, 'ben': 893, 'c': 894, 'term': 895, 'serv': 896, 'meant': 897, 'la': 898, 'german': 899, 'stereotyp': 900, 'hardli': 901, 'innoc': 902, 'law': 903, 'desper': 904, 'promis': 905, 'memori': 906, 'cute': 907, 'intent': 908, 'steal': 909, 'inform': 910, 'variou': 911, 'brain': 912, 'post': 913, 'tone': 914, 'island': 915, 'amount': 916, 'nuditi': 917, 'compani': 918, 'track': 919, 'store': 920, 'claim': 921, '50': 922, 'flat': 923, 'hair': 924, 'univers': 925, 'land': 926, 'scott': 927, 'kick': 928, 'fairli': 929, 'danger': 930, 'player': 931, 'crew': 932, 'step': 933, 'plain': 934, 'toni': 935, 'share': 936, 'tast': 937, 'centuri': 938, 'engag': 939, 'achiev': 940, 'cold': 941, 'travel': 942, 'rip': 943, 'record': 944, 'suit': 945, 'sadli': 946, 'manner': 947, 'tension': 948, 'spot': 949, 'wrote': 950, 'intens': 951, 'fascin': 952, 'familiar': 953, 'depth': 954, 'burn': 955, 'remark': 956, 'destroy': 957, 'histor': 958, 'sleep': 959, 'purpos': 960, 'languag': 961, 'ignor': 962, 'ruin': 963, 'delight': 964, 'italian': 965, 'unbeliev': 966, 'collect': 967, 'soul': 968, 'abil': 969, 'clever': 970, 'detect': 971, 'violent': 972, 'rape': 973, 'reach': 974, 'door': 975, 'liter': 976, 'trash': 977, 'scienc': 978, 'caught': 979, 'commun': 980, 'reveng': 981, 'creatur': 982, 'trip': 983, 'approach': 984, 'fashion': 985, 'intrigu': 986, 'skill': 987, 'introduc': 988, 'paint': 989, 'complex': 990, 'channel': 991, 'camp': 992, 'christian': 993, 'hole': 994, 'extra': 995, 'limit': 996, 'mental': 997, 'ann': 998, 'immedi': 999, '6': 1000, 'mere': 1001, 'comput': 1002, 'slightli': 1003, 'million': 1004, 'slasher': 1005, 'conclus': 1006, 'suddenli': 1007, 'imposs': 1008, 'neither': 1009, 'crimin': 1010, 'teen': 1011, 'physic': 1012, 'nation': 1013, 'spent': 1014, 'respons': 1015, 'planet': 1016, 'fake': 1017, 'receiv': 1018, 'sick': 1019, 'blue': 1020, 'bizarr': 1021, 'embarrass': 1022, 'indian': 1023, '15': 1024, 'ring': 1025, 'pop': 1026, 'drop': 1027, 'drag': 1028, 'haunt': 1029, 'pointless': 1030, 'suspect': 1031, 'edg': 1032, 'search': 1033, 'handl': 1034, 'biggest': 1035, 'common': 1036, 'arriv': 1037, 'hurt': 1038, 'faith': 1039, 'technic': 1040, 'angel': 1041, 'dad': 1042, 'genuin': 1043, 'awesom': 1044, 'f': 1045, 'solid': 1046, 'van': 1047, 'focu': 1048, 'colleg': 1049, 'former': 1050, 'count': 1051, 'tear': 1052, 'heavi': 1053, 'wall': 1054, 'rais': 1055, 'visit': 1056, 'laughabl': 1057, 'younger': 1058, 'excus': 1059, 'sign': 1060, 'fair': 1061, 'cult': 1062, 'key': 1063, 'tough': 1064, 'motion': 1065, 'desir': 1066, 'super': 1067, 'addit': 1068, 'stun': 1069, 'exploit': 1070, 'cloth': 1071, 'smith': 1072, 'tortur': 1073, 'race': 1074, 'davi': 1075, 'cross': 1076, 'author': 1077, 'jim': 1078, 'consist': 1079, 'compel': 1080, 'minor': 1081, 'focus': 1082, 'pathet': 1083, 'chemistri': 1084, 'commit': 1085, 'park': 1086, 'frank': 1087, 'obsess': 1088, 'tradit': 1089, 'grade': 1090, 'asid': 1091, '60': 1092, 'brutal': 1093, 'somewher': 1094, 'steve': 1095, 'u': 1096, 'rule': 1097, 'opportun': 1098, 'grant': 1099, 'explor': 1100, 'depress': 1101, 'besid': 1102, 'honest': 1103, 'anti': 1104, 'dub': 1105, 'intend': 1106, 'trailer': 1107, 'bar': 1108, 'west': 1109, 'scientist': 1110, 'regard': 1111, 'longer': 1112, 'judg': 1113, 'decad': 1114, 'silent': 1115, 'armi': 1116, 'creativ': 1117, 'wild': 1118, 'stewart': 1119, 'g': 1120, 'south': 1121, 'draw': 1122, 'road': 1123, 'govern': 1124, 'boss': 1125, 'ex': 1126, 'practic': 1127, 'club': 1128, 'gang': 1129, 'surprisingli': 1130, 'motiv': 1131, 'festiv': 1132, 'page': 1133, 'london': 1134, 'green': 1135, 'redeem': 1136, 'idiot': 1137, 'display': 1138, 'machin': 1139, 'aliv': 1140, 'militari': 1141, 'thrill': 1142, 'repeat': 1143, 'nobodi': 1144, '100': 1145, 'folk': 1146, 'yeah': 1147, '40': 1148, 'journey': 1149, 'garbag': 1150, 'tire': 1151, 'ground': 1152, 'smile': 1153, 'bought': 1154, 'mood': 1155, 'sam': 1156, 'stone': 1157, 'cost': 1158, 'noir': 1159, 'mouth': 1160, 'terrif': 1161, 'agent': 1162, 'utterli': 1163, 'requir': 1164, 'sexi': 1165, 'area': 1166, 'honestli': 1167, 'geniu': 1168, 'report': 1169, 'enter': 1170, 'glad': 1171, 'investig': 1172, 'humour': 1173, 'serial': 1174, 'narr': 1175, 'passion': 1176, 'occasion': 1177, 'climax': 1178, 'marriag': 1179, 'studi': 1180, 'industri': 1181, 'center': 1182, 'ship': 1183, 'nowher': 1184, 'charli': 1185, 'demon': 1186, 'hors': 1187, 'loos': 1188, 'bear': 1189, 'hang': 1190, 'wow': 1191, 'graphic': 1192, 'giant': 1193, 'admir': 1194, 'send': 1195, 'damn': 1196, 'loud': 1197, 'rel': 1198, 'subtl': 1199, 'nake': 1200, 'profession': 1201, 'blow': 1202, 'bottom': 1203, 'insult': 1204, 'batman': 1205, 'doubl': 1206, 'boyfriend': 1207, 'r': 1208, 'kelli': 1209, 'initi': 1210, 'frame': 1211, 'gem': 1212, 'opera': 1213, 'cinemat': 1214, 'challeng': 1215, 'drawn': 1216, 'church': 1217, 'affect': 1218, 'evid': 1219, 'seek': 1220, 'nightmar': 1221, 'fulli': 1222, 'l': 1223, 'j': 1224, 'essenti': 1225, 'arm': 1226, 'conflict': 1227, 'henri': 1228, 'wind': 1229, 'grace': 1230, 'christoph': 1231, 'witch': 1232, 'assum': 1233, 'narrat': 1234, 'hunt': 1235, 'push': 1236, 'chri': 1237, 'wise': 1238, 'month': 1239, 'nomin': 1240, 'repres': 1241, 'hide': 1242, 'sceneri': 1243, 'avail': 1244, 'affair': 1245, 'bond': 1246, 'smart': 1247, 'justic': 1248, 'thu': 1249, 'flashback': 1250, 'outstand': 1251, 'interview': 1252, 'satisfi': 1253, 'constantli': 1254, 'presenc': 1255, 'central': 1256, 'bed': 1257, 'iron': 1258, 'sell': 1259, 'content': 1260, 'everybodi': 1261, 'gag': 1262, 'hotel': 1263, 'slowli': 1264, 'hire': 1265, 'system': 1266, 'charl': 1267, 'hey': 1268, 'individu': 1269, 'adam': 1270, 'thrown': 1271, 'mediocr': 1272, 'jone': 1273, 'allen': 1274, 'ray': 1275, 'lesson': 1276, 'billi': 1277, 'photographi': 1278, 'cameo': 1279, 'fellow': 1280, 'pari': 1281, 'strike': 1282, 'absurd': 1283, 'brief': 1284, 'rise': 1285, 'independ': 1286, 'neg': 1287, 'phone': 1288, 'impact': 1289, 'ill': 1290, 'model': 1291, 'born': 1292, 'fresh': 1293, 'spoil': 1294, 'angl': 1295, 'likabl': 1296, 'abus': 1297, 'hill': 1298, 'discuss': 1299, 'ahead': 1300, 'sight': 1301, 'sent': 1302, 'photograph': 1303, 'occur': 1304, 'shine': 1305, 'blame': 1306, 'logic': 1307, 'mainli': 1308, 'bruce': 1309, 'forev': 1310, 'commerci': 1311, 'skip': 1312, 'surround': 1313, 'teacher': 1314, 'held': 1315, 'segment': 1316, 'zero': 1317, 'blond': 1318, 'trap': 1319, 'satir': 1320, 'summer': 1321, 'resembl': 1322, 'ball': 1323, 'fool': 1324, 'six': 1325, 'queen': 1326, 'sub': 1327, 'tragedi': 1328, 'twice': 1329, 'pack': 1330, 'reaction': 1331, 'bomb': 1332, 'protagonist': 1333, 'will': 1334, 'hospit': 1335, 'sport': 1336, 'mile': 1337, 'mom': 1338, 'drink': 1339, 'trust': 1340, 'vote': 1341, 'jerri': 1342, 'encount': 1343, 'plane': 1344, 'station': 1345, 'current': 1346, 'program': 1347, 'al': 1348, 'celebr': 1349, 'choos': 1350, 'martin': 1351, 'join': 1352, 'tragic': 1353, 'lord': 1354, 'field': 1355, 'round': 1356, 'favourit': 1357, 'jean': 1358, 'vision': 1359, 'robot': 1360, 'tie': 1361, 'arthur': 1362, 'roger': 1363, 'fortun': 1364, 'random': 1365, 'dread': 1366, 'intern': 1367, 'psycholog': 1368, 'improv': 1369, 'prefer': 1370, 'nonsens': 1371, 'epic': 1372, 'formula': 1373, 'pleasur': 1374, 'highlight': 1375, 'legend': 1376, 'dollar': 1377, 'tape': 1378, '11': 1379, 'porn': 1380, 'thin': 1381, 'fox': 1382, 'gorgeou': 1383, 'wide': 1384, 'object': 1385, 'ugli': 1386, 'influenc': 1387, 'buddi': 1388, 'nasti': 1389, 'prepar': 1390, 'ii': 1391, 'supposedli': 1392, 'reflect': 1393, 'warm': 1394, 'progress': 1395, 'youth': 1396, 'worthi': 1397, 'unusu': 1398, 'length': 1399, 'latter': 1400, 'crash': 1401, 'seven': 1402, 'superior': 1403, 'childhood': 1404, 'shop': 1405, 'remot': 1406, 'theatr': 1407, 'pilot': 1408, 'disgust': 1409, 'funniest': 1410, 'paid': 1411, 'convers': 1412, 'castl': 1413, 'fell': 1414, 'trick': 1415, 'rob': 1416, 'establish': 1417, 'disast': 1418, 'gangster': 1419, 'mine': 1420, 'suicid': 1421, 'heaven': 1422, 'disappear': 1423, 'ident': 1424, 'mask': 1425, 'heroin': 1426, 'forgotten': 1427, 'singer': 1428, 'tend': 1429, 'decis': 1430, 'brian': 1431, 'partner': 1432, 'alan': 1433, 'desert': 1434, 'recogn': 1435, 'stuck': 1436, 'thoroughli': 1437, 'p': 1438, 'sky': 1439, 'ms': 1440, 'replac': 1441, 'accur': 1442, 'market': 1443, 'clue': 1444, 'danni': 1445, 'commentari': 1446, 'seemingli': 1447, 'andi': 1448, 'eddi': 1449, 'uncl': 1450, 'devil': 1451, 'jackson': 1452, 'therefor': 1453, 'pair': 1454, 'refus': 1455, 'that': 1456, 'fault': 1457, 'unit': 1458, 'fate': 1459, 'ed': 1460, 'accid': 1461, 'river': 1462, 'afraid': 1463, 'tune': 1464, 'russian': 1465, 'stephen': 1466, 'clean': 1467, 'hidden': 1468, 'irrit': 1469, 'readi': 1470, 'test': 1471, 'quick': 1472, 'instanc': 1473, 'captain': 1474, 'convey': 1475, 'european': 1476, 'daniel': 1477, 'frustrat': 1478, 'insan': 1479, 'wed': 1480, 'rescu': 1481, 'food': 1482, 'chines': 1483, '1950': 1484, 'angri': 1485, 'lock': 1486, 'dirti': 1487, 'joy': 1488, 'price': 1489, 'steven': 1490, 'bland': 1491, 'cage': 1492, 'anymor': 1493, 'rang': 1494, 'wooden': 1495, 'rush': 1496, 'jason': 1497, 'n': 1498, 'news': 1499, 'led': 1500, 'martial': 1501, '12': 1502, 'board': 1503, 'twenti': 1504, 'worri': 1505, 'transform': 1506, 'hunter': 1507, 'symbol': 1508, 'cgi': 1509, 'invent': 1510, 'sentiment': 1511, 'piti': 1512, 'johnni': 1513, 'onto': 1514, 'x': 1515, 'explan': 1516, 'process': 1517, 'attitud': 1518, 'owner': 1519, 'awar': 1520, 'aim': 1521, 'target': 1522, 'favor': 1523, 'floor': 1524, 'energi': 1525, 'necessari': 1526, 'religi': 1527, 'opposit': 1528, 'blind': 1529, 'chick': 1530, 'window': 1531, 'insight': 1532, 'movement': 1533, 'comparison': 1534, 'possess': 1535, 'deepli': 1536, 'mountain': 1537, 'research': 1538, 'rain': 1539, 'whatsoev': 1540, 'grand': 1541, 'comed': 1542, 'mid': 1543, 'shadow': 1544, 'began': 1545, 'bank': 1546, 'princ': 1547, 'parodi': 1548, 'pre': 1549, 'weapon': 1550, 'taylor': 1551, 'credibl': 1552, 'friendship': 1553, 'flesh': 1554, 'dougla': 1555, 'teach': 1556, 'bloodi': 1557, 'terror': 1558, 'protect': 1559, 'hint': 1560, 'marvel': 1561, 'anybodi': 1562, 'accord': 1563, 'watchabl': 1564, 'leader': 1565, 'drunk': 1566, 'load': 1567, 'superman': 1568, 'brown': 1569, 'freddi': 1570, 'appropri': 1571, 'jeff': 1572, 'hitler': 1573, 'seat': 1574, 'tim': 1575, 'charg': 1576, 'unknown': 1577, 'knock': 1578, 'keaton': 1579, 'villag': 1580, 'empti': 1581, 'unnecessari': 1582, 'media': 1583, 'england': 1584, 'enemi': 1585, 'dare': 1586, 'wave': 1587, 'strength': 1588, 'buck': 1589, 'craft': 1590, 'utter': 1591, 'perspect': 1592, 'correct': 1593, 'contrast': 1594, 'nativ': 1595, 'ford': 1596, 'kiss': 1597, 'knowledg': 1598, 'magnific': 1599, 'soap': 1600, 'anywher': 1601, 'nazi': 1602, 'distract': 1603, 'chill': 1604, 'speed': 1605, 'breath': 1606, 'mission': 1607, 'fred': 1608, 'ice': 1609, '1980': 1610, 'jr': 1611, 'moon': 1612, 'crowd': 1613, 'joan': 1614, 'kate': 1615, 'frighten': 1616, 'soft': 1617, '000': 1618, 'hundr': 1619, 'dick': 1620, 'dan': 1621, 'nick': 1622, 'dozen': 1623, 'radio': 1624, 'somebodi': 1625, 'simon': 1626, 'thousand': 1627, 'academi': 1628, 'andrew': 1629, 'loss': 1630, 'shakespear': 1631, 'vehicl': 1632, 'root': 1633, 'sum': 1634, 'account': 1635, 'quot': 1636, '1970': 1637, 'leg': 1638, 'convent': 1639, 'behavior': 1640, 'gold': 1641, 'regular': 1642, 'pretenti': 1643, 'compet': 1644, 'demand': 1645, 'worker': 1646, 'privat': 1647, 'notabl': 1648, 'explos': 1649, 'interpret': 1650, 'stretch': 1651, 'lynch': 1652, 'candi': 1653, 'japan': 1654, 'constant': 1655, 'debut': 1656, 'tarzan': 1657, 'spi': 1658, 'revolv': 1659, 'prais': 1660, 'translat': 1661, 'sea': 1662, 'quiet': 1663, 'sat': 1664, 'franc': 1665, 'ass': 1666, 'jesu': 1667, 'technolog': 1668, 'failur': 1669, 'threaten': 1670, 'punch': 1671, 'met': 1672, 'kevin': 1673, 'toy': 1674, 'higher': 1675, 'aid': 1676, 'mike': 1677, 'interact': 1678, 'vh': 1679, 'abandon': 1680, 'confront': 1681, 'bet': 1682, 'separ': 1683, 'command': 1684, 'stunt': 1685, 'belong': 1686, 'gotten': 1687, 'site': 1688, 'servic': 1689, 'recal': 1690, 'techniqu': 1691, 'freak': 1692, 'foot': 1693, 'cabl': 1694, 'bug': 1695, 'capabl': 1696, 'bright': 1697, 'fu': 1698, 'african': 1699, 'jimmi': 1700, 'fat': 1701, 'boat': 1702, 'stock': 1703, 'succeed': 1704, 'clark': 1705, 'presid': 1706, 'structur': 1707, 'gene': 1708, 'spanish': 1709, 'kidnap': 1710, 'paper': 1711, 'belief': 1712, 'factor': 1713, 'whilst': 1714, 'bob': 1715, 'complic': 1716, 'attend': 1717, 'educ': 1718, 'witti': 1719, 'tree': 1720, 'realis': 1721, 'realism': 1722, 'finest': 1723, 'assist': 1724, 'santa': 1725, 'broken': 1726, 'depart': 1727, 'smoke': 1728, 'v': 1729, 'up': 1730, 'determin': 1731, 'observ': 1732, 'hat': 1733, 'fame': 1734, 'domin': 1735, 'routin': 1736, 'rubbish': 1737, 'oper': 1738, 'lewi': 1739, 'morgan': 1740, 'safe': 1741, 'foreign': 1742, 'kinda': 1743, 'lone': 1744, 'hook': 1745, 'advanc': 1746, 'rank': 1747, 'numer': 1748, 'shallow': 1749, 'washington': 1750, 'shape': 1751, 'vs': 1752, 'rose': 1753, 'civil': 1754, 'werewolf': 1755, 'gari': 1756, 'morn': 1757, 'ordinari': 1758, 'kong': 1759, 'winner': 1760, 'accomplish': 1761, 'peac': 1762, 'whenev': 1763, 'virtual': 1764, 'grab': 1765, 'luck': 1766, 'h': 1767, 'offens': 1768, 'patient': 1769, 'complain': 1770, 'activ': 1771, 'welcom': 1772, 'contriv': 1773, 'bigger': 1774, 'unfunni': 1775, 'trek': 1776, 'dimension': 1777, 'pretend': 1778, 'con': 1779, 'eric': 1780, 'dri': 1781, 'lesbian': 1782, 'wake': 1783, 'code': 1784, 'flash': 1785, 'cain': 1786, 'statu': 1787, 'dancer': 1788, 'guard': 1789, 'manipul': 1790, 'albert': 1791, 'corrupt': 1792, 'speech': 1793, 'gain': 1794, 'awkward': 1795, 'signific': 1796, 'context': 1797, 'sourc': 1798, 'corni': 1799, 'anthoni': 1800, '13': 1801, 'clip': 1802, 'psycho': 1803, 'sean': 1804, 'reli': 1805, 'w': 1806, 'curiou': 1807, 'priest': 1808, 'advic': 1809, 'religion': 1810, 'theatric': 1811, 'flow': 1812, 'addict': 1813, 'specif': 1814, 'howard': 1815, 'skin': 1816, 'jennif': 1817, 'asian': 1818, 'secur': 1819, 'organ': 1820, 'core': 1821, 'comfort': 1822, 'promot': 1823, 'luke': 1824, 'golden': 1825, 'cheat': 1826, 'cash': 1827, 'lucki': 1828, 'dislik': 1829, 'lower': 1830, 'associ': 1831, 'degre': 1832, 'balanc': 1833, 'wing': 1834, 'regret': 1835, 'spell': 1836, 'frankli': 1837, 'frequent': 1838, 'contribut': 1839, 'devic': 1840, 'sake': 1841, 'forgiv': 1842, 'lake': 1843, 'print': 1844, 'thoma': 1845, 'mass': 1846, 'betti': 1847, 'crack': 1848, 'unexpect': 1849, 'gordon': 1850, 'construct': 1851, 'invit': 1852, 'amateur': 1853, 'grown': 1854, 'unfold': 1855, 'depend': 1856, 'categori': 1857, 'condit': 1858, 'matur': 1859, 'honor': 1860, 'walter': 1861, 'anna': 1862, 'grew': 1863, 'intellectu': 1864, 'mirror': 1865, 'spectacular': 1866, 'veteran': 1867, 'sole': 1868, 'sudden': 1869, 'demonstr': 1870, 'freedom': 1871, 'gift': 1872, 'liner': 1873, 'experienc': 1874, 'grip': 1875, 'overli': 1876, 'meanwhil': 1877, 'card': 1878, 'robin': 1879, 'colour': 1880, 'brilliantli': 1881, 'sheriff': 1882, 'drew': 1883, 'crappi': 1884, 'subtitl': 1885, 'theori': 1886, 'section': 1887, 'circumst': 1888, 'oliv': 1889, 'unabl': 1890, 'cook': 1891, 'matt': 1892, 'path': 1893, 'pile': 1894, 'laughter': 1895, 'sheer': 1896, 'parker': 1897, 'altern': 1898, 'sinatra': 1899, 'relief': 1900, 'treatment': 1901, 'defin': 1902, 'wander': 1903, 'lawyer': 1904, 'accident': 1905, 'hall': 1906, 'dragon': 1907, 'captiv': 1908, 'hank': 1909, 'gratuit': 1910, 'halloween': 1911, 'moor': 1912, 'wayn': 1913, 'broadway': 1914, 'jacki': 1915, 'cowboy': 1916, 'unintent': 1917, 'wound': 1918, 'kung': 1919, 'barbara': 1920, 'k': 1921, 'spoof': 1922, 'canadian': 1923, 'statement': 1924, 'surreal': 1925, 'winter': 1926, 'treasur': 1927, 'fare': 1928, 'cheer': 1929, 'fish': 1930, 'gonna': 1931, 'compos': 1932, 'woodi': 1933, 'sensit': 1934, 'unrealist': 1935, 'emerg': 1936, 'victor': 1937, 'sympathet': 1938, 'ran': 1939, 'neighbor': 1940, 'driven': 1941, 'glass': 1942, 'menac': 1943, 'topic': 1944, 'expos': 1945, 'authent': 1946, 'overlook': 1947, 'handsom': 1948, 'michel': 1949, 'chief': 1950, 'ancient': 1951, 'gross': 1952, 'built': 1953, 'feet': 1954, 'comedian': 1955, 'nevertheless': 1956, 'network': 1957, 'stranger': 1958, 'contemporari': 1959, 'pleasant': 1960, 'russel': 1961, 'cinderella': 1962, 'endless': 1963, 'miser': 1964, 'gori': 1965, 'underr': 1966, 'letter': 1967, 'earn': 1968, 'consider': 1969, 'blockbust': 1970, 'brook': 1971, 'switch': 1972, 'solv': 1973, 'convict': 1974, 'victoria': 1975, 'joseph': 1976, 'edward': 1977, 'virgin': 1978, 'bullet': 1979, '0': 1980, 'scale': 1981, 'chosen': 1982, 'scenario': 1983, 'cynic': 1984, 'alex': 1985, 'com': 1986, 'sword': 1987, 'outrag': 1988, 'curs': 1989, 'gut': 1990, 'driver': 1991, 'juli': 1992, 'proper': 1993, 'substanc': 1994, 'wrap': 1995, 'screenwrit': 1996, 'monkey': 1997, 'uk': 1998, 'court': 1999, 'indic': 2000, 'par': 2001, 'bird': 2002, 'remov': 2003, 'roy': 2004, 'consequ': 2005, 'nanci': 2006, 'grave': 2007, 'advertis': 2008, 'rental': 2009, 'naiv': 2010, 'loser': 2011, 'inevit': 2012, 'slap': 2013, 'invis': 2014, 'le': 2015, 'fatal': 2016, 'bridg': 2017, 'germani': 2018, 'brave': 2019, 'ador': 2020, 'footbal': 2021, 'provok': 2022, 'anger': 2023, 'loui': 2024, 'alcohol': 2025, 'chan': 2026, 'anderson': 2027, 'ryan': 2028, 'willi': 2029, 'professor': 2030, 'stumbl': 2031, 'sharp': 2032, '1930': 2033, 'patrick': 2034, 'australian': 2035, 'assassin': 2036, 'bat': 2037, 'deni': 2038, 'amateurish': 2039, 'lousi': 2040, 'eight': 2041, 'cell': 2042, 'refresh': 2043, 'saturday': 2044, 'heck': 2045, 'strongli': 2046, 'ape': 2047, 'trilog': 2048, 'liber': 2049, 'sin': 2050, 'san': 2051, 'justifi': 2052, 'vagu': 2053, 'resid': 2054, 'terrifi': 2055, 'reput': 2056, 'defeat': 2057, 'indi': 2058, 'sympathi': 2059, 'mini': 2060, 'creator': 2061, 'tediou': 2062, 'expert': 2063, 'tabl': 2064, 'endur': 2065, 'prevent': 2066, 'task': 2067, 'trial': 2068, 'offend': 2069, 'rival': 2070, 'basebal': 2071, 'imit': 2072, 'employ': 2073, 'che': 2074, 'pitch': 2075, 'dig': 2076, 'weekend': 2077, 'complaint': 2078, 'max': 2079, 'europ': 2080, 'beach': 2081, 'fairi': 2082, 'risk': 2083, 'purchas': 2084, 'murphi': 2085, 'format': 2086, 'harsh': 2087, 'powel': 2088, 'reminisc': 2089, 'nois': 2090, 'titan': 2091, 'hype': 2092, 'bite': 2093, 'glimps': 2094, 'tini': 2095, 'asleep': 2096, 'fals': 2097, 'strip': 2098, 'prime': 2099, 'north': 2100, 'till': 2101, '14': 2102, 'texa': 2103, 'descript': 2104, 'destruct': 2105, 'africa': 2106, 'revel': 2107, 'semi': 2108, 'arrest': 2109, 'sitcom': 2110, 'surfac': 2111, 'spin': 2112, 'inner': 2113, 'uninterest': 2114, 'excess': 2115, 'makeup': 2116, 'massiv': 2117, 'controversi': 2118, 'dinosaur': 2119, 'argu': 2120, 'twin': 2121, 'maintain': 2122, 'hitchcock': 2123, 'ideal': 2124, 'stare': 2125, 'reject': 2126, 'expens': 2127, 'melodrama': 2128, 'insist': 2129, 'ludicr': 2130, 'kim': 2131, 'supernatur': 2132, 'subplot': 2133, 'ala': 2134, 'nail': 2135, 'ga': 2136, 'atroci': 2137, 'host': 2138, 'forest': 2139, 'press': 2140, 'erot': 2141, 'columbo': 2142, 'presum': 2143, 'cant': 2144, 'dude': 2145, 'identifi': 2146, 'notch': 2147, 'forgett': 2148, 'guest': 2149, 'character': 2150, 'closer': 2151, 'plagu': 2152, 'method': 2153, 'crude': 2154, 'ear': 2155, 'beast': 2156, 'lion': 2157, 'border': 2158, 'foster': 2159, 'landscap': 2160, 'princess': 2161, 'storytel': 2162, 'accus': 2163, 'bound': 2164, 'previous': 2165, 'birth': 2166, 'jungl': 2167, 'urban': 2168, 'damag': 2169, 'pacino': 2170, 'aunt': 2171, 'guid': 2172, 'nude': 2173, 'propaganda': 2174, 'thirti': 2175, 'chose': 2176, 'jess': 2177, 'doll': 2178, 'emma': 2179, 'mainstream': 2180, 'warrior': 2181, 'whoever': 2182, 'mate': 2183, 'pet': 2184, '25': 2185, 'merit': 2186, 'latest': 2187, 'friday': 2188, 'deadli': 2189, 'gritti': 2190, 'poster': 2191, 'upset': 2192, 'exact': 2193, 'cooper': 2194, 'size': 2195, 'corps': 2196, 'blend': 2197, 'ton': 2198, 'wilson': 2199, 'popul': 2200, 'rough': 2201, 'buff': 2202, 'settl': 2203, 'citizen': 2204, 'contact': 2205, 'sun': 2206, 'contest': 2207, 'warner': 2208, '1990': 2209, 'alic': 2210, 'select': 2211, 'environ': 2212, 'rat': 2213, 'widow': 2214, 'overcom': 2215, 'pitt': 2216, 'bu': 2217, 'metal': 2218, 'mgm': 2219, 'guilti': 2220, 'particip': 2221, 'link': 2222, 'lift': 2223, 'revolut': 2224, 'ted': 2225, 'corner': 2226, 'afternoon': 2227, 'accompani': 2228, 'prostitut': 2229, 'corpor': 2230, 'matrix': 2231, '1960': 2232, 'johnson': 2233, 'moron': 2234, 'exagger': 2235, 'multipl': 2236, 'doom': 2237, 'friendli': 2238, 'sincer': 2239, 'leagu': 2240, 'clair': 2241, 'holm': 2242, 'hood': 2243, 'instal': 2244, 'defend': 2245, 'advis': 2246, 'examin': 2247, 'campi': 2248, 'lugosi': 2249, 'junk': 2250, 'aka': 2251, 'irish': 2252, 'string': 2253, 'grim': 2254, 'sunday': 2255, 'hip': 2256, 'blah': 2257, 'pro': 2258, 'icon': 2259, 'tight': 2260, 'varieti': 2261, 'rachel': 2262, 'shake': 2263, 'confid': 2264, 'shut': 2265, 'mexican': 2266, 'medic': 2267, 'goal': 2268, 'denni': 2269, 'jaw': 2270, 'directli': 2271, 'attach': 2272, 'sullivan': 2273, 'sentenc': 2274, 'vietnam': 2275, 'sarah': 2276, 'terrorist': 2277, 'truck': 2278, 'prior': 2279, 'dean': 2280, 'courag': 2281, 'breast': 2282, 'bourn': 2283, 'duke': 2284, 'legendari': 2285, 'split': 2286, 'proceed': 2287, 'nose': 2288, 'behav': 2289, 'hong': 2290, 'yell': 2291, 'donald': 2292, 'entri': 2293, 'un': 2294, 'lifetim': 2295, 'concentr': 2296, 'buri': 2297, 'crush': 2298, 'everywher': 2299, 'jerk': 2300, 'swim': 2301, 'gather': 2302, 'confess': 2303, 'unconvinc': 2304, 'forth': 2305, 'stolen': 2306, 'borrow': 2307, 'california': 2308, 'deliveri': 2309, 'lip': 2310, 'turkey': 2311, 'pan': 2312, 'spite': 2313, 'julia': 2314, 'china': 2315, 'proud': 2316, 'downright': 2317, 'hoffman': 2318, 'offici': 2319, 'freeman': 2320, 'reward': 2321, 'quest': 2322, 'flight': 2323, 'betray': 2324, 'sink': 2325, 'inept': 2326, 'lazi': 2327, 'jon': 2328, 'fabul': 2329, 'notori': 2330, 'worthwhil': 2331, 'sir': 2332, 'encourag': 2333, 'jail': 2334, 'fade': 2335, 'bag': 2336, 'bell': 2337, 'storm': 2338, 'shower': 2339, 'teeth': 2340, 'cousin': 2341, 'imageri': 2342, 'retard': 2343, 'susan': 2344, 'survivor': 2345, 'relev': 2346, 'branagh': 2347, 'lisa': 2348, 'bride': 2349, 'mexico': 2350, 'finger': 2351, 'alright': 2352, 'toler': 2353, 'tremend': 2354, 'summari': 2355, 'trade': 2356, 'stab': 2357, 'facial': 2358, 'hugh': 2359, 'shark': 2360, 'quirki': 2361, 'hyster': 2362, 'blown': 2363, 'pose': 2364, 'von': 2365, 'bitter': 2366, 'ha': 2367, 'address': 2368, 'bone': 2369, 'larri': 2370, 'ron': 2371, 'afterward': 2372, 'scheme': 2373, 'christ': 2374, 'ned': 2375, 'cruel': 2376, 'beg': 2377, 'swear': 2378, 'thumb': 2379, 'pursu': 2380, 'feed': 2381, 'distinct': 2382, 'traci': 2383, 'snake': 2384, 'tour': 2385, 'screw': 2386, 'stomach': 2387, 'chair': 2388, 'raw': 2389, 'occas': 2390, 'mechan': 2391, 'photo': 2392, 'obscur': 2393, 'holiday': 2394, 'chain': 2395, 'resist': 2396, 'southern': 2397, 'render': 2398, 'argument': 2399, 'gruesom': 2400, 'necessarili': 2401, 'sidney': 2402, 'cabin': 2403, 'heavili': 2404, 'hardi': 2405, 'indulg': 2406, 'philip': 2407, 'understood': 2408, 'satan': 2409, 'racist': 2410, 'india': 2411, 'stalk': 2412, 'obnoxi': 2413, 'tongu': 2414, 'midnight': 2415, 'forgot': 2416, 'fourth': 2417, 'belov': 2418, 'integr': 2419, 'pregnant': 2420, 'lay': 2421, 'outfit': 2422, 'inhabit': 2423, 'deeper': 2424, 'restor': 2425, 'magazin': 2426, 'ticket': 2427, 'slapstick': 2428, '17': 2429, 'garden': 2430, 'carol': 2431, 'devot': 2432, 'incid': 2433, 'lincoln': 2434, 'shoe': 2435, 'brad': 2436, 'benefit': 2437, 'disbelief': 2438, 'lili': 2439, 'elizabeth': 2440, 'underground': 2441, 'guarante': 2442, 'divorc': 2443, 'maria': 2444, 'anticip': 2445, 'sandler': 2446, 'greater': 2447, 'capit': 2448, 'princip': 2449, 'mildli': 2450, 'amazingli': 2451, 'slave': 2452, 'cring': 2453, 'creation': 2454, 'explod': 2455, 'bbc': 2456, 'lesli': 2457, 'extraordinari': 2458, 'halfway': 2459, 'introduct': 2460, 'funnier': 2461, 'wreck': 2462, 'tap': 2463, 'punish': 2464, 'text': 2465, 'transfer': 2466, 'extent': 2467, 'advantag': 2468, 'overwhelm': 2469, 'enhanc': 2470, 'horrif': 2471, 'preview': 2472, 'lo': 2473, 'east': 2474, 'deliber': 2475, 'dynam': 2476, 'error': 2477, 'lane': 2478, 'plant': 2479, 'jessica': 2480, 'miscast': 2481, 'appli': 2482, 'vacat': 2483, 'sophist': 2484, 'basi': 2485, 'ensu': 2486, 'vincent': 2487, '2000': 2488, 'miller': 2489, 'homosexu': 2490, 'uncomfort': 2491, 'spoken': 2492, 'via': 2493, 'sleazi': 2494, 'bollywood': 2495, 'mansion': 2496, 'reed': 2497, 'steel': 2498, 'measur': 2499, 'elev': 2500, 'extend': 2501, 'goofi': 2502, 'overact': 2503, 'cathol': 2504, 'fix': 2505, 'breathtak': 2506, 'hippi': 2507, 'assign': 2508, 'conceiv': 2509, 'beer': 2510, 'blair': 2511, 'melt': 2512, 'savag': 2513, 'mous': 2514, 'stanley': 2515, 'alter': 2516, 'daili': 2517, 'dentist': 2518, 'inspector': 2519, 'succe': 2520, 'nowaday': 2521, 'carpent': 2522, 'oppos': 2523, 'properli': 2524, 'sacrific': 2525, 'subsequ': 2526, 'everyday': 2527, 'burt': 2528, 'neck': 2529, 'massacr': 2530, 'laura': 2531, 'circl': 2532, 'block': 2533, 'portrait': 2534, 'mob': 2535, 'lesser': 2536, 'concert': 2537, 'pool': 2538, 'fallen': 2539, 'access': 2540, 'seagal': 2541, 'grey': 2542, 'fay': 2543, 'christi': 2544, 'jewish': 2545, 'relax': 2546, 'react': 2547, 'usa': 2548, 'chees': 2549, 'isol': 2550, 'jake': 2551, 'sinist': 2552, 'competit': 2553, 'chop': 2554, 'lyric': 2555, 'nine': 2556, '2006': 2557, 'stink': 2558, 'spiritu': 2559, 'appal': 2560, 'immens': 2561, 'ironi': 2562, 'nonetheless': 2563, 'creep': 2564, 'suitabl': 2565, 'spring': 2566, 'nut': 2567, 'rage': 2568, 'retir': 2569, 'navi': 2570, 'needless': 2571, 'user': 2572, 'franchis': 2573, 'reduc': 2574, 'showcas': 2575, 'shirt': 2576, 'adopt': 2577, 'sold': 2578, 'luci': 2579, 'digit': 2580, 'uninspir': 2581, 'bath': 2582, 'asham': 2583, 'per': 2584, 'zone': 2585, 'bulli': 2586, 'stanwyck': 2587, 'jay': 2588, 'nurs': 2589, '2001': 2590, 'laid': 2591, 'amongst': 2592, 'upper': 2593, 'broadcast': 2594, 'illustr': 2595, 'oddli': 2596, '1940': 2597, 'sutherland': 2598, 'brando': 2599, 'fulfil': 2600, 'stylish': 2601, 'throat': 2602, 'aspir': 2603, 'baker': 2604, 'disguis': 2605, 'pound': 2606, 'em': 2607, 'endear': 2608, 'pride': 2609, 'impli': 2610, 'wanna': 2611, '18': 2612, 'wwii': 2613, 'neighborhood': 2614, 'nobl': 2615, 'thief': 2616, 'cinematograph': 2617, 'albeit': 2618, '16': 2619, 'coher': 2620, 'shift': 2621, 'dawn': 2622, 'tens': 2623, 'prop': 2624, 'bett': 2625, 'dinner': 2626, 'rochest': 2627, 'diseas': 2628, 'distribut': 2629, 'shoulder': 2630, 'bo': 2631, 'wash': 2632, 'silenc': 2633, 'forti': 2634, 'function': 2635, 'snow': 2636, 'knife': 2637, 'shout': 2638, 'contract': 2639, 'poignant': 2640, 'rebel': 2641, 'surf': 2642, 'matthau': 2643, 'mindless': 2644, 'henc': 2645, 'eeri': 2646, 'proof': 2647, 'derek': 2648, 'horrend': 2649, 'internet': 2650, 'reunion': 2651, 'height': 2652, 'instinct': 2653, 'duti': 2654, 'silver': 2655, 'heat': 2656, 'cannib': 2657, 'cancel': 2658, 'widmark': 2659, 'chuck': 2660, 'elvira': 2661, 'premier': 2662, 'greatli': 2663, 'spielberg': 2664, 'musician': 2665, 'repetit': 2666, 'alik': 2667, 'etern': 2668, 'neat': 2669, 'elvi': 2670, 'glori': 2671, 'mill': 2672, 'pie': 2673, 'incoher': 2674, 'torn': 2675, 'absorb': 2676, 'innov': 2677, 'trite': 2678, 'nelson': 2679, 'blank': 2680, 'itali': 2681, 'bang': 2682, 'crisi': 2683, 'horrifi': 2684, 'redempt': 2685, 'announc': 2686, 'diamond': 2687, 'infam': 2688, 'homag': 2689, 'fbi': 2690, 'precis': 2691, 'wealthi': 2692, 'britain': 2693, 'racism': 2694, 'lovabl': 2695, 'burton': 2696, 'happili': 2697, 'flop': 2698, 'streisand': 2699, 'ensembl': 2700, 'chaplin': 2701, 'helen': 2702, 'dedic': 2703, 'parallel': 2704, 'pat': 2705, 'hammer': 2706, 'wilder': 2707, 'resolut': 2708, 'mar': 2709, 'broke': 2710, 'conclud': 2711, 'carter': 2712, 'st': 2713, 'factori': 2714, 'disagre': 2715, 'plastic': 2716, 'cube': 2717, 'triumph': 2718, 'oil': 2719, 'row': 2720, 'rocket': 2721, 'weight': 2722, 'march': 2723, 'fighter': 2724, 'bush': 2725, 'own': 2726, 'climb': 2727, 'chuckl': 2728, 'vega': 2729, 'sensibl': 2730, 'mst3k': 2731, 'luca': 2732, 'enorm': 2733, 'boot': 2734, 'unforgett': 2735, 'dane': 2736, 'thug': 2737, 'lust': 2738, 'kurt': 2739, 'dump': 2740, 'meaning': 2741, 'spare': 2742, 'wherea': 2743, 'dear': 2744, 'karloff': 2745, 'arnold': 2746, 'rap': 2747, 'difficulti': 2748, 'stress': 2749, 'caricatur': 2750, 'brand': 2751, 'threat': 2752, 'bobbi': 2753, 'engin': 2754, 'butt': 2755, 'adequ': 2756, 'fifti': 2757, 'secretari': 2758, 'journalist': 2759, 'polish': 2760, 'swing': 2761, 'ego': 2762, 'fest': 2763, 'ralph': 2764, 'hamlet': 2765, 'arrog': 2766, 'flynn': 2767, 'barri': 2768, 'homeless': 2769, 'elabor': 2770, 'fanci': 2771, 'puppet': 2772, 'simpson': 2773, 'conspiraci': 2774, 'grate': 2775, 'resort': 2776, 'arrang': 2777, 'unbear': 2778, 'float': 2779, 'tool': 2780, 'induc': 2781, 'spike': 2782, 'exercis': 2783, 'tribut': 2784, 'choreograph': 2785, 'cruis': 2786, 'basement': 2787, 'boll': 2788, 'guilt': 2789, 'pig': 2790, 'phillip': 2791, 'muppet': 2792, 'fianc': 2793, 'babe': 2794, 'ham': 2795, 'korean': 2796, 'puzzl': 2797, 'tower': 2798, 'medium': 2799, 'ward': 2800, '24': 2801, 'editor': 2802, 'item': 2803, 'file': 2804, 'slip': 2805, 'layer': 2806, 'stan': 2807, 'toilet': 2808, 'document': 2809, 'scarecrow': 2810, 'inexplic': 2811, 'orient': 2812, 'territori': 2813, 'minim': 2814, 'persona': 2815, 'assur': 2816, 'librari': 2817, 'doc': 2818, 'spark': 2819, 'transit': 2820, 'catherin': 2821, 'philosoph': 2822, 'portion': 2823, 'denzel': 2824, 'slaughter': 2825, 'glover': 2826, 'superfici': 2827, 'larger': 2828, 'curti': 2829, 'jeremi': 2830, 'walken': 2831, 'owe': 2832, 'shi': 2833, 'pg': 2834, 'ban': 2835, 'sneak': 2836, 'financi': 2837, 'dorothi': 2838, 'boredom': 2839, 'jet': 2840, 'wolf': 2841, 'cusack': 2842, 'backdrop': 2843, 'whale': 2844, 'profound': 2845, 'ambigu': 2846, 'metaphor': 2847, 'hudson': 2848, 'multi': 2849, 'eleph': 2850, 'rave': 2851, 'stiff': 2852, 'notion': 2853, 'gadget': 2854, 'union': 2855, 'hack': 2856, '2005': 2857, 'birthday': 2858, 'elsewher': 2859, 'ultra': 2860, 'implaus': 2861, 'viru': 2862, 'distanc': 2863, 'pad': 2864, 'squar': 2865, 'newspap': 2866, 'reader': 2867, 'bibl': 2868, 'urg': 2869, 'eva': 2870, 'disc': 2871, 'hawk': 2872, 'eastwood': 2873, 'canada': 2874, 'afford': 2875, 'slight': 2876, 'deriv': 2877, 'superhero': 2878, '1st': 2879, 'lloyd': 2880, 'poison': 2881, 'drown': 2882, 'button': 2883, 'essenc': 2884, 'huh': 2885, 'sadist': 2886, 'charisma': 2887, 'spread': 2888, 'health': 2889, 'restaur': 2890, 'montag': 2891, 'cure': 2892, 'skit': 2893, 'heston': 2894, 'godfath': 2895, 'maniac': 2896, 'fetch': 2897, 'companion': 2898, 'muslim': 2899, 'estat': 2900, 'dealt': 2901, 'invest': 2902, 'gradual': 2903, 'peak': 2904, 'scoobi': 2905, 'lab': 2906, 'ritter': 2907, 'alli': 2908, 'countless': 2909, 'tea': 2910, 'subtleti': 2911, 'kane': 2912, 'servant': 2913, 'cup': 2914, 'gothic': 2915, 'miik': 2916, 'iii': 2917, 'charismat': 2918, 'briefli': 2919, 'heroic': 2920, 'salli': 2921, 'elect': 2922, 'electr': 2923, 'tender': 2924, 'toss': 2925, 'nuanc': 2926, 'wannab': 2927, 'resourc': 2928, 'grandmoth': 2929, 'ingredi': 2930, 'reel': 2931, 'admittedli': 2932, 'bud': 2933, 'neil': 2934, 'cole': 2935, 'mild': 2936, 'punk': 2937, 'pit': 2938, 'dawson': 2939, 'shall': 2940, 'stronger': 2941, 'gate': 2942, 'poverti': 2943, 'kubrick': 2944, 'label': 2945, 'reev': 2946, 'stood': 2947, 'mafia': 2948, 'carrey': 2949, 'pauli': 2950, 'assault': 2951, 'tag': 2952, 'smash': 2953, 'updat': 2954, 'ian': 2955, 'useless': 2956, 'fond': 2957, 'outcom': 2958, 'astair': 2959, 'cox': 2960, 'cardboard': 2961, 'terri': 2962, 'easier': 2963, 'burst': 2964, 'bakshi': 2965, 'smooth': 2966, 'rex': 2967, 'qualifi': 2968, 'exchang': 2969, 'melodramat': 2970, 'vulner': 2971, 'resolv': 2972, 'fist': 2973, '2002': 2974, 'vari': 2975, 'samurai': 2976, 'divers': 2977, 'increasingli': 2978, 'sketch': 2979, 'coincid': 2980, 'suspend': 2981, 'tame': 2982, 'scratch': 2983, 'be': 2984, 'conveni': 2985, 'brillianc': 2986, 'luckili': 2987, 'blast': 2988, 'insert': 2989, 'reynold': 2990, 'templ': 2991, 'jami': 2992, 'meat': 2993, 'ambiti': 2994, 'gotta': 2995, 'pin': 2996, 'walker': 2997, 'seventi': 2998, 'strictli': 2999, 'matthew': 3000, 'fisher': 3001, 'nuclear': 3002, 'hamilton': 3003, 'coach': 3004, 'farm': 3005, 'soprano': 3006, 'clock': 3007, 'worthless': 3008, 'cave': 3009, 'recreat': 3010, 'kudo': 3011, 'monk': 3012, 'instantli': 3013, 'convolut': 3014, 'revers': 3015, 'grasp': 3016, 'closet': 3017, 'struck': 3018, 'butcher': 3019, 'brosnan': 3020, 'spooki': 3021, 'timeless': 3022, 'eccentr': 3023, 'empir': 3024, 'ninja': 3025, 'joey': 3026, 'discoveri': 3027, 'inconsist': 3028, 'fifteen': 3029, 'pal': 3030, 'sidekick': 3031, 'norman': 3032, 'selfish': 3033, 'sloppi': 3034, 'communist': 3035, 'eighti': 3036, 'partli': 3037, 'wipe': 3038, 'evok': 3039, 'cliff': 3040, 'mitchel': 3041, 'declar': 3042, 'gray': 3043, 'importantli': 3044, 'miracl': 3045, 'clown': 3046, 'seller': 3047, 'bleak': 3048, 'psychiatrist': 3049, '45': 3050, 'destin': 3051, 'cheek': 3052, 'enthusiast': 3053, 'chew': 3054, 'websit': 3055, 'piano': 3056, 'aforement': 3057, 'flawless': 3058, 'seed': 3059, 'australia': 3060, 'stoog': 3061, 'debat': 3062, 'superbl': 3063, 'lifestyl': 3064, 'ho': 3065, 'farc': 3066, 'bash': 3067, 'kitchen': 3068, 'splatter': 3069, 'wick': 3070, 'emili': 3071, 'regardless': 3072, 'drivel': 3073, 'dash': 3074, 'dire': 3075, 'akshay': 3076, 'incompet': 3077, 'slice': 3078, 'directori': 3079, 'wrestl': 3080, 'pressur': 3081, 'anni': 3082, 'soviet': 3083, 'abc': 3084, 'recov': 3085, 'suppli': 3086, 'prize': 3087, 'mann': 3088, 'pleasantli': 3089, 'helicopt': 3090, 'increas': 3091, 'curios': 3092, 'judi': 3093, 'glow': 3094, 'duo': 3095, 'cameron': 3096, 'distant': 3097, 'cia': 3098, 'doo': 3099, 'seduc': 3100, 'flower': 3101, 'cagney': 3102, 'chapter': 3103, 'beaten': 3104, 'boil': 3105, 'ken': 3106, 'blob': 3107, 'artifici': 3108, 'lou': 3109, 'jar': 3110, 'dave': 3111, 'perri': 3112, 'hop': 3113, 'combat': 3114, 'francisco': 3115, 'psychot': 3116, 'favour': 3117, 'ranger': 3118, 'drunken': 3119, 'web': 3120, 'splendid': 3121, 'craven': 3122, 'craig': 3123, 'turner': 3124, 'glenn': 3125, 'panic': 3126, 'goldberg': 3127, 'ellen': 3128, 'laurel': 3129, 'eleg': 3130, 'flip': 3131, 'greek': 3132, 'ruth': 3133, 'min': 3134, 'alexand': 3135, 'wizard': 3136, 'fx': 3137, 'hatr': 3138, 'philosophi': 3139, 'plausibl': 3140, 'gentl': 3141, 'falk': 3142, 'gandhi': 3143, 'slightest': 3144, 'graduat': 3145, '20th': 3146, 'modesti': 3147, 'shortli': 3148, 'rid': 3149, 'knight': 3150, 'holi': 3151, 'tall': 3152, 'preciou': 3153, 'futurist': 3154, 'manhattan': 3155, 'unpleas': 3156, 'ocean': 3157, 'dracula': 3158, 'we': 3159, 'harm': 3160, 'felix': 3161, 'lend': 3162, 'jealou': 3163, 'legal': 3164, 'fund': 3165, 'mock': 3166, 'childish': 3167, 'ami': 3168, 'thread': 3169, 'reviv': 3170, 'explicit': 3171, 'forbidden': 3172, 'nod': 3173, 'scientif': 3174, 'bless': 3175, 'tank': 3176, 'overdon': 3177, 'digniti': 3178, 'giallo': 3179, 'elderli': 3180, 'fever': 3181, 'awaken': 3182, 'nerv': 3183, 'unwatch': 3184, 'awe': 3185, 'yesterday': 3186, 'eve': 3187, 'broad': 3188, 'pirat': 3189, 'repeatedli': 3190, 'thick': 3191, 'mel': 3192, 'margaret': 3193, '99': 3194, 'verhoeven': 3195, '2004': 3196, 'torment': 3197, 'ambit': 3198, 'royal': 3199, 'eas': 3200, 'custom': 3201, 'politician': 3202, 'kay': 3203, 'uniform': 3204, 'lean': 3205, 'roman': 3206, 'launch': 3207, 'rivet': 3208, 'ah': 3209, 'automat': 3210, 'acclaim': 3211, 'publish': 3212, 'romero': 3213, 'stiller': 3214, 'timothi': 3215, 'griffith': 3216, 'absenc': 3217, 'bin': 3218, 'darker': 3219, 'gabriel': 3220, 'pierc': 3221, 'crook': 3222, 'bathroom': 3223, 'termin': 3224, 'sunshin': 3225, 'transport': 3226, 'foul': 3227, 'tomato': 3228, 'purpl': 3229, 'wallac': 3230, 'stinker': 3231, 'antic': 3232, 'homicid': 3233, 'pulp': 3234, 'phrase': 3235, 'warren': 3236, 'album': 3237, 'donna': 3238, 'choreographi': 3239, 'juvenil': 3240, 'awak': 3241, 'prom': 3242, 'eyr': 3243, 'sixti': 3244, 'marin': 3245, 'rambo': 3246, 'contrari': 3247, 'q': 3248, 'revolutionari': 3249, 'viciou': 3250, 'karen': 3251, 'ought': 3252, 'li': 3253, 'saint': 3254, 'horrid': 3255, 'pray': 3256, 'hollow': 3257, 'kenneth': 3258, 'coloni': 3259, '2003': 3260, 'packag': 3261, 'evolv': 3262, 'brazil': 3263, 'blade': 3264, 'mummi': 3265, 'nerd': 3266, 'ramon': 3267, 'defi': 3268, 'stole': 3269, 'overr': 3270, 'kapoor': 3271, 'conserv': 3272, 'boast': 3273, 'twelv': 3274, 'dose': 3275, 'candid': 3276, 'option': 3277, 'ireland': 3278, 'mildr': 3279, 'beatti': 3280, 'trio': 3281, 'astonish': 3282, 'kirk': 3283, 'collabor': 3284, 'protest': 3285, 'funer': 3286, 'jazz': 3287, 'fulci': 3288, 'flame': 3289, 'confirm': 3290, 'global': 3291, 'natali': 3292, 'detract': 3293, 'altman': 3294, 'yellow': 3295, 'destini': 3296, 'blake': 3297, 'bottl': 3298, 'shade': 3299, 'whip': 3300, 'delici': 3301, 'mystic': 3302, 'leap': 3303, 'racial': 3304, 'nicholson': 3305, 'enterpris': 3306, 'bull': 3307, 'spit': 3308, 'audio': 3309, 'tommi': 3310, 'reunit': 3311, 'swedish': 3312, 'harder': 3313, 'adolesc': 3314, 'pseudo': 3315, 'meaningless': 3316, 'visibl': 3317, 'vivid': 3318, 'fonda': 3319, 'todd': 3320, 'threw': 3321, 'merci': 3322, 'bedroom': 3323, 'popcorn': 3324, 'inherit': 3325, 'staff': 3326, 'altogeth': 3327, 'enchant': 3328, 'neo': 3329, 'suspici': 3330, 'tip': 3331, 'moodi': 3332, 'exhibit': 3333, 'wire': 3334, 'reserv': 3335, 'fanat': 3336, 'befriend': 3337, 'await': 3338, 'bust': 3339, 'lawrenc': 3340, 'madonna': 3341, 'respond': 3342, 'kennedi': 3343, 'ruthless': 3344, 'uneven': 3345, 'synopsi': 3346, 'roommat': 3347, 'voight': 3348, 'decor': 3349, 'jew': 3350, 'crocodil': 3351, 'lemmon': 3352, 'leonard': 3353, 'edi': 3354, 'atlanti': 3355, 'rural': 3356, 'audit': 3357, 'abysm': 3358, 'clumsi': 3359, 'clint': 3360, 'chao': 3361, 'dimens': 3362, '2007': 3363, 'bargain': 3364, 'garner': 3365, 'bradi': 3366, 'centr': 3367, 'bold': 3368, 'voyag': 3369, 'incident': 3370, 'carl': 3371, 'unsettl': 3372, 'ventur': 3373, 'holli': 3374, 'palma': 3375, 'acknowledg': 3376, 'elimin': 3377, 'poetic': 3378, 'echo': 3379, 'humili': 3380, 'versu': 3381, 'troop': 3382, '2nd': 3383, 'immigr': 3384, 'daddi': 3385, 'neglect': 3386, 'mall': 3387, 'tiger': 3388, 'nearbi': 3389, 'timon': 3390, 'trail': 3391, 'ant': 3392, 'characterist': 3393, 'cuba': 3394, 'cd': 3395, 'imperson': 3396, 'cari': 3397, 'wealth': 3398, 'hart': 3399, 'lit': 3400, 'pun': 3401, 'infect': 3402, 'paus': 3403, 'collaps': 3404, 'repuls': 3405, 'jeffrey': 3406, 'celluloid': 3407, 'domest': 3408, 'prejudic': 3409, 'homer': 3410, 'solo': 3411, 'marshal': 3412, 'mistaken': 3413, 'saga': 3414, 'mickey': 3415, 'sore': 3416, 'gear': 3417, 'milk': 3418, 'hbo': 3419, 'undoubtedli': 3420, 'inappropri': 3421, 'apolog': 3422, 'inan': 3423, 'coffe': 3424, 'promin': 3425, 'coat': 3426, 'tribe': 3427, 'ginger': 3428, 'pant': 3429, 'interrupt': 3430, 'equip': 3431, 'assembl': 3432, '1996': 3433, 'harvey': 3434, 'olivi': 3435, 'cake': 3436, 'chest': 3437, 'leon': 3438, 'airplan': 3439, 'highest': 3440, 'furthermor': 3441, 'florida': 3442, 'primari': 3443, 'trace': 3444, 'instant': 3445, 'colonel': 3446, 'aveng': 3447, 'pot': 3448, 'devast': 3449, 'jenni': 3450, 'colleagu': 3451, 'humbl': 3452, 'pen': 3453, 'embrac': 3454, 'vulgar': 3455, 'exot': 3456, 'maggi': 3457, 'consum': 3458, 'brooklyn': 3459, 'polanski': 3460, 'institut': 3461, 'retain': 3462, 'solut': 3463, 'illog': 3464, 'seduct': 3465, 'principl': 3466, 'dian': 3467, '1999': 3468, '3rd': 3469, 'gender': 3470, 'disabl': 3471, 'linda': 3472, 'poke': 3473, 'rick': 3474, 'outer': 3475, 'bowl': 3476, 'wive': 3477, 'sale': 3478, 'dutch': 3479, 'descend': 3480, 'godzilla': 3481, 'cope': 3482, 'smaller': 3483, 'strain': 3484, 'ya': 3485, 'devoid': 3486, 'gloriou': 3487, 'inferior': 3488, 'primarili': 3489, 'scope': 3490, 'mixtur': 3491, 'glamor': 3492, 'blatant': 3493, 'secondli': 3494, 'dud': 3495, 'bubbl': 3496, 'yard': 3497, 'predecessor': 3498, 'beneath': 3499, 'cue': 3500, 'lol': 3501, 'vast': 3502, 'gundam': 3503, 'dive': 3504, 'hal': 3505, 'rabbit': 3506, 'invas': 3507, 'simplist': 3508, 'museum': 3509, 'breed': 3510, 'grinch': 3511, 'senseless': 3512, 'aggress': 3513, 'shelf': 3514, 'trademark': 3515, 'alert': 3516, 'talki': 3517, 'z': 3518, 'casual': 3519, 'et': 3520, 'hideou': 3521, 'garbo': 3522, 'disjoint': 3523, 'shirley': 3524, 'alfr': 3525, 'countrysid': 3526, 'streep': 3527, 'april': 3528, 'myer': 3529, 'pearl': 3530, 'arab': 3531, 'domino': 3532, 'loyal': 3533, 'maci': 3534, 'stir': 3535, 'defens': 3536, 'applaud': 3537, 'boom': 3538, 'stack': 3539, 'obtain': 3540, 'unhappi': 3541, 'uwe': 3542, 'sh': 3543, 'khan': 3544, 'oz': 3545, 'rendit': 3546, 'mayor': 3547, 'mail': 3548, 'vanish': 3549, 'hopeless': 3550, 'acid': 3551, 'robberi': 3552, 'disgrac': 3553, 'illeg': 3554, 'experiment': 3555, 'slide': 3556, 'robinson': 3557, 'hardcor': 3558, 'stellar': 3559, 'grandfath': 3560, 'tempt': 3561, 'recruit': 3562, 'wont': 3563, 'berlin': 3564, 'psychic': 3565, 'incomprehens': 3566, 'dismiss': 3567, 'topless': 3568, 'blew': 3569, 'emphasi': 3570, 'craze': 3571, 'fri': 3572, 'amanda': 3573, 'declin': 3574, 'diana': 3575, 'span': 3576, 'hartley': 3577, 'scroog': 3578, 'counter': 3579, 'tenant': 3580, 'soccer': 3581, 'dicken': 3582, 'spider': 3583, 'rifl': 3584, 'wet': 3585, 'porno': 3586, 'ration': 3587, 'sympath': 3588, 'bitch': 3589, 'intim': 3590, 'ethnic': 3591, 'shed': 3592, 'revolt': 3593, 'lumet': 3594, 'goer': 3595, 'faster': 3596, 'trashi': 3597, 'riot': 3598, 'parad': 3599, 'justin': 3600, 'resurrect': 3601, 'woo': 3602, 'shaw': 3603, 'sibl': 3604, 'niro': 3605, 'lena': 3606, 'commend': 3607, 'farmer': 3608, 'wheel': 3609, 'choru': 3610, 'slick': 3611, 'patriot': 3612, 'hopper': 3613, 'hesit': 3614, 'jonathan': 3615, 'region': 3616, 'weakest': 3617, 'andr': 3618, 'nephew': 3619, 'gap': 3620, 'honesti': 3621, 'ensur': 3622, 'immort': 3623, 'mario': 3624, 'wendi': 3625, 'ballet': 3626, 'dealer': 3627, 'unreal': 3628, 'feminist': 3629, '00': 3630, 'steam': 3631, 'worm': 3632, 'biographi': 3633, 'rider': 3634, 'eager': 3635, 'partial': 3636, 'enlighten': 3637, 'composit': 3638, 'wore': 3639, 'sappi': 3640, 'leo': 3641, 'blunt': 3642, 'snap': 3643, 'skull': 3644, 'confin': 3645, 'similarli': 3646, 'psychopath': 3647, 'charlott': 3648, 'vice': 3649, 'franco': 3650, 'util': 3651, 'repress': 3652, 'nostalg': 3653, 'prequel': 3654, 'mutant': 3655, 'owen': 3656, 'safeti': 3657, 'properti': 3658, 'kingdom': 3659, 'victori': 3660, 'hung': 3661, 'morri': 3662, 'sandra': 3663, 'macarthur': 3664, 'farrel': 3665, 'nervou': 3666, 'strand': 3667, 'bergman': 3668, 'miseri': 3669, 'bumbl': 3670, 'rope': 3671, 'hyde': 3672, 'tail': 3673, 'drum': 3674, 'deed': 3675, 'pattern': 3676, 'compens': 3677, 'latin': 3678, 'compass': 3679, 'bow': 3680, 'repli': 3681, 'rocki': 3682, 'heartbreak': 3683, 'rambl': 3684, 'campbel': 3685, 'tad': 3686, 'bonu': 3687, 'exit': 3688, 'recycl': 3689, 'acquir': 3690, 'drain': 3691, 'cg': 3692, '1972': 3693, 'dust': 3694, 'speci': 3695, 'whoopi': 3696, 'montana': 3697, 'dalton': 3698, 'snl': 3699, 'emperor': 3700, 'kyle': 3701, 'thru': 3702, 'valuabl': 3703, 'despair': 3704, 'del': 3705, 'romp': 3706, 'da': 3707, 'pour': 3708, 'tonight': 3709, 'oppress': 3710, 'rotten': 3711, 'contempl': 3712, 'rapist': 3713, 'martian': 3714, 'percept': 3715, 'gimmick': 3716, 'wacki': 3717, 'bleed': 3718, 'mistress': 3719, 'orson': 3720, 'carradin': 3721, 'gal': 3722, 'downhil': 3723, 'radic': 3724, '35': 3725, 'chess': 3726, 'slug': 3727, 'roth': 3728, 'olli': 3729, 'airport': 3730, 'slash': 3731, 'arguabl': 3732, 'pervert': 3733, 'arc': 3734, 'heal': 3735, 'belt': 3736, '1983': 3737, 'programm': 3738, 'pursuit': 3739, 'mislead': 3740, 'attorney': 3741, 'tooth': 3742, 'melodi': 3743, 'champion': 3744, 'pervers': 3745, 'dazzl': 3746, 'taught': 3747, 'banal': 3748, 'tackl': 3749, 'paltrow': 3750, 'unpredict': 3751, 'edgar': 3752, 'stilt': 3753, 'shelley': 3754, 'preach': 3755, 'tiresom': 3756, 'conneri': 3757, 'poem': 3758, 'bela': 3759, 'orang': 3760, 'employe': 3761, 'raymond': 3762, 'mesmer': 3763, 'graham': 3764, 'vengeanc': 3765, 'gambl': 3766, 'dixon': 3767, 'cleverli': 3768, 'vocal': 3769, 'uplift': 3770, 'plight': 3771, 'closest': 3772, 'chicken': 3773, 'duval': 3774, 'virginia': 3775, 'marti': 3776, 'maid': 3777, 'sensat': 3778, 'passeng': 3779, 'franki': 3780, 'rubi': 3781, 'amitabh': 3782, 'profan': 3783, 'yawn': 3784, 'gerard': 3785, 'quarter': 3786, 'secretli': 3787, 'convincingli': 3788, 'swallow': 3789, 'calm': 3790, 'habit': 3791, 'inject': 3792, 'tube': 3793, 'outing': 3794, 'climact': 3795, 'numb': 3796, 'abraham': 3797, 'scottish': 3798, 'mute': 3799, 'bay': 3800, 'monologu': 3801, 'volum': 3802, 'engross': 3803, 'suffic': 3804, 'crystal': 3805, 'paranoia': 3806, 'giggl': 3807, '1968': 3808, 'whine': 3809, 'clone': 3810, 'extens': 3811, 'iran': 3812, 'sirk': 3813, 'pokemon': 3814, 'lundgren': 3815, 'trend': 3816, 'earl': 3817, 'im': 3818, 'abort': 3819, 'franci': 3820, 'richardson': 3821, 'lowest': 3822, 'linger': 3823, 'backward': 3824, 'nichola': 3825, 'ethan': 3826, 'expand': 3827, 'bend': 3828, 'frankenstein': 3829, 'poetri': 3830, 'underst': 3831, 'grotesqu': 3832, 'profess': 3833, 'taxi': 3834, 'chicago': 3835, 'fed': 3836, 'dispos': 3837, 'austen': 3838, 'spock': 3839, 'septemb': 3840, 'junior': 3841, 'meander': 3842, 'plod': 3843, 'surpass': 3844, 'tourist': 3845, 'dysfunct': 3846, 'sue': 3847, 'rubber': 3848, 'der': 3849, 'mundan': 3850, 'catchi': 3851, 'compliment': 3852, 'lure': 3853, 'spoke': 3854, 'hum': 3855, 'cannon': 3856, 'eugen': 3857, 'myth': 3858, 'stallon': 3859, 'waitress': 3860, 'literatur': 3861, 'simplic': 3862, 'instrument': 3863, 'greedi': 3864, 'rant': 3865, 'econom': 3866, 'household': 3867, 'descent': 3868, 'muddl': 3869, 'nostalgia': 3870, 'phantom': 3871, 'damon': 3872, 'molli': 3873, 'firstli': 3874, 'recognis': 3875, 'alongsid': 3876, 'phoni': 3877, 'mankind': 3878, 'bacal': 3879, 'omen': 3880, 'duck': 3881, 'randi': 3882, 'flee': 3883, 'equival': 3884, 'mortal': 3885, 'dictat': 3886, 'occupi': 3887, 'coast': 3888, 'recognit': 3889, 'june': 3890, 'hello': 3891, 'stale': 3892, 'cent': 3893, 'crucial': 3894, 'irrelev': 3895, 'dement': 3896, 'deaf': 3897, 'carel': 3898, 'louis': 3899, 'eaten': 3900, 'map': 3901, 'furi': 3902, 'insur': 3903, 'sissi': 3904, 'lang': 3905, 'distinguish': 3906, 'onlin': 3907, 'loyalti': 3908, 'cyborg': 3909, 'wisdom': 3910, 'ashley': 3911, 'labor': 3912, 'grayson': 3913, 'bike': 3914, 'biko': 3915, 'newli': 3916, 'twilight': 3917, '1973': 3918, 'rude': 3919, 'blackmail': 3920, 'dreari': 3921, 'likewis': 3922, 'antwon': 3923, 'bump': 3924, 'lengthi': 3925, 'heel': 3926, 'reign': 3927, 'rooney': 3928, 'damm': 3929, 'freez': 3930, 'daisi': 3931, 'drake': 3932, 'buffalo': 3933, 'worn': 3934, 'proce': 3935, 'interior': 3936, 'exposur': 3937, 'approv': 3938, 'basketbal': 3939, 'unorigin': 3940, 'nineti': 3941, 'keith': 3942, 'chronicl': 3943, 'pink': 3944, 'provoc': 3945, 'baddi': 3946, 'ridden': 3947, 'tunnel': 3948, 'butler': 3949, 'inher': 3950, 'sailor': 3951, 'incorpor': 3952, 'vein': 3953, 'barrymor': 3954, 'analysi': 3955, 'boxer': 3956, 'attribut': 3957, 'emphas': 3958, 'startl': 3959, 'prey': 3960, 'hypnot': 3961, 'simmon': 3962, 'mighti': 3963, 'bunni': 3964, 'julian': 3965, 'stalker': 3966, 'undeni': 3967, 'condemn': 3968, 'underli': 3969, 'substitut': 3970, 'belushi': 3971, 'predat': 3972, 'indiffer': 3973, 'drift': 3974, 'improvis': 3975, 'robbin': 3976, 'meg': 3977, 'mormon': 3978, 'fleet': 3979, 'er': 3980, 'nicol': 3981, 'elm': 3982, 'millionair': 3983, 'carla': 3984, 'meyer': 3985, 'barrel': 3986, 'walsh': 3987, 'degrad': 3988, 'unrel': 3989, 'othello': 3990, 'hay': 3991, 'roof': 3992, 'enthusiasm': 3993, 'edgi': 3994, 'nyc': 3995, 'priceless': 3996, 'unawar': 3997, 'alison': 3998, 'reid': 3999, 'warmth': 4000, 'agenda': 4001, 'vital': 4002, 'firm': 4003, '3d': 4004, 'greed': 4005, 'mtv': 4006, 'rukh': 4007, 'alarm': 4008, 'errol': 4009, 'shove': 4010, 'disord': 4011, 'exquisit': 4012, 'novak': 4013, 'watson': 4014, 'palac': 4015, 'lampoon': 4016, 'marion': 4017, 'dolph': 4018, 'ponder': 4019, 'valentin': 4020, 'sergeant': 4021, 'cassidi': 4022, '13th': 4023, 'preserv': 4024, 'nun': 4025, 'crown': 4026, 'randomli': 4027, 'what': 4028, 'unleash': 4029, 'gestur': 4030, 'coup': 4031, 'drip': 4032, 'simultan': 4033, 'minimum': 4034, 'angela': 4035, 'showdown': 4036, 'profit': 4037, 'iraq': 4038, 'pamela': 4039, 'testament': 4040, 'beatl': 4041, 'orlean': 4042, 'campaign': 4043, 'peril': 4044, 'distort': 4045, 'eastern': 4046, '1933': 4047, 'petti': 4048, 'israel': 4049, 'spain': 4050, 'glanc': 4051, 'thompson': 4052, 'championship': 4053, 'session': 4054, 'zizek': 4055, 'peck': 4056, 'wig': 4057, 'regist': 4058, 'brenda': 4059, 'sabrina': 4060, 'cream': 4061, 'crawl': 4062, 'reson': 4063, 'unimagin': 4064, 'climat': 4065, 'buster': 4066, 'miyazaki': 4067, 'calib': 4068, 'exposit': 4069, 'realm': 4070, 'empathi': 4071, 'restrain': 4072, 'scotland': 4073, '1984': 4074, 'stake': 4075, 'travesti': 4076, 'gentleman': 4077, 'jan': 4078, 'han': 4079, 'quinn': 4080, 'bro': 4081, 'valley': 4082, 'stroke': 4083, 'fido': 4084, 'contradict': 4085, 'perpetu': 4086, 'cooki': 4087, 'mon': 4088, 'crow': 4089, 'rout': 4090, 'kurosawa': 4091, 'represent': 4092, 'shootout': 4093, 'din': 4094, 'unseen': 4095, 'abomin': 4096, 'greg': 4097, 'businessman': 4098, 'crawford': 4099, 'monoton': 4100, 'derang': 4101, 'distress': 4102, 'perceiv': 4103, 'femm': 4104, 'geek': 4105, 'pole': 4106, 'darren': 4107, 'pretens': 4108, 'wax': 4109, 'dana': 4110, 'shaki': 4111, 'unsatisfi': 4112, 'tacki': 4113, 'painter': 4114, 'censor': 4115, 'spacey': 4116, 'absent': 4117, 'shoddi': 4118, 'warrant': 4119, 'passabl': 4120, 'traumat': 4121, '1987': 4122, 'fuller': 4123, 'cloud': 4124, 'meryl': 4125, 'josh': 4126, 'stargat': 4127, '1997': 4128, 'mclaglen': 4129, 'compromis': 4130, 'sucker': 4131, 'demis': 4132, 'baldwin': 4133, 'ustinov': 4134, 'sammi': 4135, 'ross': 4136, 'delic': 4137, 'soderbergh': 4138, 'primit': 4139, 'nathan': 4140, 'wholli': 4141, 'reluct': 4142, 'verbal': 4143, 'deniro': 4144, 'fenc': 4145, 'norm': 4146, 'unravel': 4147, 'seal': 4148, 'furiou': 4149, 'sid': 4150, 'tarantino': 4151, 'judgment': 4152, 'clash': 4153, '1993': 4154, 'accuraci': 4155, 'austin': 4156, 'correctli': 4157, 'expedit': 4158, 'tech': 4159, 'click': 4160, 'uncov': 4161, 'anchor': 4162, 'jewel': 4163, 'fog': 4164, 'deceas': 4165, 'exclus': 4166, 'polici': 4167, 'valid': 4168, 'dee': 4169, 'antonioni': 4170, 'kumar': 4171, 'patienc': 4172, 'dreck': 4173, 'fought': 4174, 'roller': 4175, 'sand': 4176, 'vanc': 4177, 'ritual': 4178, 'mode': 4179, 'crippl': 4180, 'sunni': 4181, 'nicola': 4182, 'slam': 4183, 'shanghai': 4184, 'enforc': 4185, 'conduct': 4186, 'seldom': 4187, 'darn': 4188, 'temper': 4189, 'sheet': 4190, 'clerk': 4191, 'fabric': 4192, 'debt': 4193, '2008': 4194, 'bake': 4195, 'sustain': 4196, '3000': 4197, 'joel': 4198, 'trait': 4199, '1971': 4200, 'wretch': 4201, 'fart': 4202, 'pocket': 4203, 'hallucin': 4204, 'alec': 4205, '1995': 4206, 'tax': 4207, 'murray': 4208, 'behold': 4209, 'unfair': 4210, 'malon': 4211, 'logan': 4212, 'wang': 4213, 'helpless': 4214, 'critiqu': 4215, 'fundament': 4216, 'squad': 4217, 'grief': 4218, 'technicolor': 4219, 'bias': 4220, 'pete': 4221, 'stuart': 4222, 'guitar': 4223, 'conscious': 4224, 'sweep': 4225, 'runner': 4226, 'preposter': 4227, 'tactic': 4228, 'divid': 4229, 'stark': 4230, 'exhaust': 4231, 'preston': 4232, 'soup': 4233, 'scriptwrit': 4234, 'isabel': 4235, 'legaci': 4236, 'shell': 4237, 'outlin': 4238, 'clau': 4239, 'penni': 4240, 'schedul': 4241, 'phil': 4242, 'robber': 4243, 'canyon': 4244, 'rita': 4245, 'bridget': 4246, 'despis': 4247, 'restrict': 4248, 'kansa': 4249, 'propos': 4250, 'delv': 4251, 'rear': 4252, 'consciou': 4253, 'liberti': 4254, 'cigarett': 4255, 'implic': 4256, 'invad': 4257, 'culmin': 4258, 'inabl': 4259, 'jacket': 4260, 'connor': 4261, 'alley': 4262, 'vomit': 4263, 'gregori': 4264, 'flair': 4265, 'rehash': 4266, 'passag': 4267, 'lacklust': 4268, 'sniper': 4269, 'russia': 4270, 'marc': 4271, 'bloom': 4272, 'unexpectedli': 4273, 'drove': 4274, 'palanc': 4275, 'agenc': 4276, 'sentinel': 4277, 'boyl': 4278, 'downey': 4279, 'newman': 4280, 'sugar': 4281, 'alicia': 4282, 'jodi': 4283, '22': 4284, 'rampag': 4285, 'feat': 4286, 'arrow': 4287, 'awhil': 4288, '1936': 4289, 'aesthet': 4290, 'asylum': 4291, 'yeti': 4292, 'rehears': 4293, 'tripe': 4294, 'tendenc': 4295, 'wrench': 4296, 'chainsaw': 4297, 'delet': 4298, 'rod': 4299, 'cap': 4300, 'sharon': 4301, 'karl': 4302, 'improb': 4303, 'behaviour': 4304, 'pale': 4305, 'kolchak': 4306, 'foxx': 4307, 'horn': 4308, 'mccoy': 4309, 'bacon': 4310, 'lush': 4311, 'ladder': 4312, 'vet': 4313, 'wildli': 4314, 'loneli': 4315, 'shortcom': 4316, 'sung': 4317, 'hungri': 4318, 'amazon': 4319, 'spice': 4320, 'minu': 4321, 'rumor': 4322, 'suffici': 4323, 'coaster': 4324, 'lurk': 4325, 'scoop': 4326, 'prank': 4327, 'suspicion': 4328, 'el': 4329, 'rhythm': 4330, 'paradis': 4331, 'globe': 4332, 'tomorrow': 4333, 'hackney': 4334, 'underneath': 4335, '1978': 4336, 'financ': 4337, 'fright': 4338, 'newcom': 4339, 'visitor': 4340, '19th': 4341, 'paramount': 4342, 'stream': 4343, 'weav': 4344, 'conscienc': 4345, 'elit': 4346, '1988': 4347, 'filler': 4348, 'tasteless': 4349, 'hulk': 4350, '1920': 4351, 'wagner': 4352, 'thunderbird': 4353, 'basing': 4354, 'aristocrat': 4355, 'bread': 4356, 'standout': 4357, 'dirt': 4358, 'inmat': 4359, 'minist': 4360, 'cancer': 4361, '1939': 4362, 'impos': 4363, 'abrupt': 4364, 'worship': 4365, 'en': 4366, '75': 4367, 'couch': 4368, 'entranc': 4369, 'teas': 4370, 'smell': 4371, 'choppi': 4372, 'ram': 4373, 'heist': 4374, 'quietli': 4375, 'tierney': 4376, 'literari': 4377, 'posey': 4378, 'brit': 4379, 'leigh': 4380, 'penn': 4381, 'naughti': 4382, 'beverli': 4383, 'springer': 4384, 'secondari': 4385, 'wwe': 4386, 'grudg': 4387, 'atroc': 4388, 'ingeni': 4389, 'counterpart': 4390, 'recogniz': 4391, '1989': 4392, 'lectur': 4393, 'chamberlain': 4394, 'straightforward': 4395, 'hopkin': 4396, 'curli': 4397, 'rub': 4398, 'iv': 4399, 'immers': 4400, 'chavez': 4401, 'paxton': 4402, 'policeman': 4403, 'attenborough': 4404, 'sublim': 4405, 'enthral': 4406, 'moreov': 4407, 'yearn': 4408, 'cattl': 4409, 'misguid': 4410, 'skeptic': 4411, 'ace': 4412, 'morbid': 4413, 'geni': 4414, 'nolan': 4415, 'clan': 4416, 'duel': 4417, 'entitl': 4418, 'nemesi': 4419, 'variat': 4420, '1986': 4421, 'bernard': 4422, 'injuri': 4423, 'heartfelt': 4424, 'convert': 4425, 'watcher': 4426, 'net': 4427, 'laurenc': 4428, 'esther': 4429, 'lindsay': 4430, 'missil': 4431, 'sassi': 4432, 'transcend': 4433, 'quaid': 4434, 'ratso': 4435, 'unexplain': 4436, 'facil': 4437, 'bean': 4438, 'hopelessli': 4439, 'enabl': 4440, 'dont': 4441, 'characteris': 4442, 'brood': 4443, 'obstacl': 4444, 'mytholog': 4445, 'moder': 4446, 'egg': 4447, 'artsi': 4448, 'buzz': 4449, 'steadi': 4450, 'bye': 4451, 'grin': 4452, 'reliabl': 4453, 'graini': 4454, 'puppi': 4455, 'cruelti': 4456, 'vader': 4457, 'spiral': 4458, 'kidman': 4459, 'out': 4460, 'setup': 4461, 'tyler': 4462, '1979': 4463, 'diari': 4464, 'kitti': 4465, 'rosemari': 4466, 'uncut': 4467, 'hk': 4468, 'carlito': 4469, 'youngest': 4470, 'poe': 4471, 'hammi': 4472, 'martha': 4473, 'exterior': 4474, 'gina': 4475, 'athlet': 4476, 'bounc': 4477, '1969': 4478, 'underworld': 4479, 'spontan': 4480, 'niec': 4481, 'despic': 4482, 'weather': 4483, 'kline': 4484, 'narrow': 4485, 'preming': 4486, 'clueless': 4487, 'fuel': 4488, 'decept': 4489, 'acquaint': 4490, 'bewar': 4491, 'hain': 4492, 'effici': 4493, 'oblig': 4494, 'heap': 4495, 'sweat': 4496, 'patricia': 4497, 'baffl': 4498, 'christin': 4499, 'brendan': 4500, 'bronson': 4501, 'disastr': 4502, 'gillian': 4503, 'preachi': 4504, 'headach': 4505, 'analyz': 4506, 'housewif': 4507, 'enlist': 4508, 'angst': 4509, 'sleepwalk': 4510, 'scar': 4511, 'candl': 4512, 'harmless': 4513, 'astound': 4514, 'dilemma': 4515, 'shatter': 4516, 'circu': 4517, 'sooner': 4518, 'viewpoint': 4519, 'loath': 4520, 'hepburn': 4521, 'renaiss': 4522, 'loi': 4523, 'suprem': 4524, 'virtu': 4525, '73': 4526, 'dandi': 4527, 'trigger': 4528, 'uh': 4529, 'mayhem': 4530, 'injur': 4531, 'goof': 4532, 'outlaw': 4533, 'insipid': 4534, 'taboo': 4535, 'tick': 4536, 'mermaid': 4537, 'lester': 4538, 'rome': 4539, 'biker': 4540, '19': 4541, 'fontain': 4542, 'boston': 4543, 'salt': 4544, 'surgeri': 4545, 'idol': 4546, 'immatur': 4547, 'spade': 4548, 'dish': 4549, 'tripl': 4550, 'steer': 4551, 'hokey': 4552, 'slimi': 4553, 'hostag': 4554, 'zoom': 4555, 'ebert': 4556, 'camcord': 4557, 'scorses': 4558, 'contempt': 4559, 'phenomenon': 4560, 'stair': 4561, 'claustrophob': 4562, 'overlong': 4563, 'glorifi': 4564, 'hooker': 4565, 'dismal': 4566, 'redund': 4567, 'corbett': 4568, 'guin': 4569, 'stimul': 4570, 'sox': 4571, 'macho': 4572, 'gere': 4573, 'oldest': 4574, 'filth': 4575, 'cassavet': 4576, 'fluff': 4577, 'amor': 4578, 'foolish': 4579, 'bent': 4580, 'intric': 4581, 'ariel': 4582, 'whore': 4583, 'antagonist': 4584, 'messi': 4585, 'alvin': 4586, 'spinal': 4587, 'joker': 4588, 'fascist': 4589, 'proport': 4590, 'flashi': 4591, 'perman': 4592, 'gabl': 4593, 'flag': 4594, 'spree': 4595, 'strongest': 4596, 'assert': 4597, 'muscl': 4598, 'frantic': 4599, 'down': 4600, 'trivia': 4601, 'cush': 4602, 'obligatori': 4603, 'cow': 4604, 'shred': 4605, 'gasp': 4606, 'remad': 4607, 'rhyme': 4608, 'harold': 4609, 'schlock': 4610, '1981': 4611, 'nolt': 4612, 'keen': 4613, 'preced': 4614, 'mutual': 4615, 'widescreen': 4616, 'beard': 4617, 'mount': 4618, 'faint': 4619, 'flirt': 4620, 'corman': 4621, 'margin': 4622, 'dwarf': 4623, 'shield': 4624, 'transplant': 4625, '1976': 4626, 'astronaut': 4627, 'zane': 4628, 'radiat': 4629, 'conquer': 4630, 'cohen': 4631, 'naschi': 4632, 'discern': 4633, 'repris': 4634, 'off': 4635, 'mol': 4636, 'brush': 4637, 'wield': 4638, 'departur': 4639, 'triangl': 4640, 'resum': 4641, 'someday': 4642, 'instruct': 4643, '95': 4644, 'strive': 4645, 'flock': 4646, 'scandal': 4647, 'bitten': 4648, 'interestingli': 4649, 'archiv': 4650, 'hara': 4651, 'ritchi': 4652, 'neurot': 4653, 'inflict': 4654, 'persuad': 4655, 'info': 4656, 'www': 4657, 'bachelor': 4658, 'sensual': 4659, '1945': 4660, 'fishburn': 4661, '28': 4662, 'mobil': 4663, 'raj': 4664, 'danish': 4665, 'aborigin': 4666, 'vaniti': 4667, 'divin': 4668, 'boob': 4669, 'carey': 4670, 'deer': 4671, 'barn': 4672, 'claud': 4673, 'loretta': 4674, 'casino': 4675, 'pacif': 4676, 'helm': 4677, 'dim': 4678, 'pickford': 4679, 'banter': 4680, 'cliffhang': 4681, 'ish': 4682, 'hug': 4683, 'artwork': 4684, 'earnest': 4685, 'prophet': 4686, 'heartwarm': 4687, 'hilar': 4688, 'dylan': 4689, 'vibrant': 4690, 'senior': 4691, 'hapless': 4692, 'fragil': 4693, 'pixar': 4694, 'cycl': 4695, 'carlo': 4696, 'anton': 4697, 'rot': 4698, 'cb': 4699, 'mobster': 4700, 'traffic': 4701, 'neill': 4702, 'kathryn': 4703, 'colin': 4704, 'recit': 4705, 'clad': 4706, 'jade': 4707, 'dame': 4708, 'biblic': 4709, 'undermin': 4710, 'miracul': 4711, 'luka': 4712, 'proclaim': 4713, 'bate': 4714, 'wendigo': 4715, 'submit': 4716, 'axe': 4717, 'timberlak': 4718, 'harrison': 4719, 'frontier': 4720, 'europa': 4721, 'parson': 4722, 'cher': 4723, 'melissa': 4724, 'marlon': 4725, 'lui': 4726, 'orphan': 4727, 'redneck': 4728, 'breakfast': 4729, 'choke': 4730, 'http': 4731, 'foil': 4732, 'bondag': 4733, 'vile': 4734, 'venom': 4735, 'sicken': 4736, 'blatantli': 4737, 'jordan': 4738, 'pc': 4739, 'static': 4740, 'antholog': 4741, 'legitim': 4742, 'estrang': 4743, 'feast': 4744, 'lucil': 4745, 'winchest': 4746, 'akin': 4747, 'eli': 4748, 'seedi': 4749, 'bikini': 4750, 'wardrob': 4751, 'flavor': 4752, 'misfortun': 4753, 'nope': 4754, 'articl': 4755, 'jo': 4756, 'isra': 4757, 'cerebr': 4758, 'toronto': 4759, 'northern': 4760, 'vanessa': 4761, 'electron': 4762, 'aris': 4763, 'trier': 4764, 'mason': 4765, 'shepherd': 4766, 'holocaust': 4767, 'illus': 4768, 'razor': 4769, 'token': 4770, 'rooki': 4771, 'alexandr': 4772, 'milo': 4773, 'uma': 4774, 'mathieu': 4775, 'highway': 4776, 'psych': 4777, 'disregard': 4778, 'ceremoni': 4779, 'wrestler': 4780, 'oppon': 4781, 'outdat': 4782, 'deem': 4783, 'fifth': 4784, 'smack': 4785, 'boyer': 4786, 'huston': 4787, 'shorter': 4788, 'peer': 4789, 'abund': 4790, 'retriev': 4791, 'glare': 4792, 'comprehend': 4793, 'audrey': 4794, 'dudley': 4795, 'feminin': 4796, 'nightclub': 4797, 'tack': 4798, 'swept': 4799, 'howl': 4800, 'charlton': 4801, 'turd': 4802, 'gilbert': 4803, 'leather': 4804, 'knightley': 4805, 'clinic': 4806, 'frog': 4807, 'styliz': 4808, 'ideolog': 4809, 'magician': 4810, 'linear': 4811, 'cartoonish': 4812, 'affleck': 4813, 'gunga': 4814, 'breakdown': 4815, 'lighter': 4816, 'potter': 4817, 'tara': 4818, 'mitch': 4819, 'collector': 4820, 'braveheart': 4821, 'client': 4822, 'spawn': 4823, 'senat': 4824, 'boo': 4825, 'lavish': 4826, 'corn': 4827, 'summar': 4828, 'sleaz': 4829, '4th': 4830, 'newer': 4831, 'chip': 4832, 'compris': 4833, 'energet': 4834, 'salman': 4835, 'durat': 4836, 'goldsworthi': 4837, 'einstein': 4838, 'btw': 4839, 'conrad': 4840, '1994': 4841, 'uniformli': 4842, 'phenomen': 4843, 'lifeless': 4844, 'moe': 4845, 'plate': 4846, 'bogu': 4847, 'monument': 4848, 'greet': 4849, 'cuban': 4850, 'spine': 4851, '1991': 4852, 'whack': 4853, 'bastard': 4854, 'snatch': 4855, 'toe': 4856, 'deliver': 4857, 'evolut': 4858, 'cemeteri': 4859, 'sorrow': 4860, '1977': 4861, 'wtf': 4862, 'clara': 4863, 'embark': 4864, 'capot': 4865, 'cecil': 4866, 'luxuri': 4867, 'historian': 4868, 'occup': 4869, 'inaccuraci': 4870, 'replay': 4871, 'signal': 4872, 'healthi': 4873, 'ol': 4874, 'bulk': 4875, 'firmli': 4876, 'alleg': 4877, 'randolph': 4878, 'outright': 4879, 'constitut': 4880, 'lex': 4881, 'jule': 4882, 'nina': 4883, 'belli': 4884, 'appl': 4885, 'undead': 4886, 'jam': 4887, 'neatli': 4888, 'creek': 4889, 'ie': 4890, 'armstrong': 4891, 'jare': 4892, 'jedi': 4893, '1974': 4894, 'pronounc': 4895, 'fluid': 4896, 'spectacl': 4897, 'bori': 4898, 'trauma': 4899, 'kazan': 4900, 'evelyn': 4901, 'undertak': 4902, 'eleven': 4903, 'kent': 4904, 'judd': 4905, 'liu': 4906, 'gilliam': 4907, 'mcqueen': 4908, 'truman': 4909, 'meal': 4910, 'pioneer': 4911, 'comb': 4912, 'unattract': 4913, 'subtli': 4914, 'inclus': 4915, 'lanc': 4916, 'mum': 4917, 'decapit': 4918, 'basket': 4919, 'spray': 4920, 'inaccur': 4921, 'congratul': 4922, 'vignett': 4923, 'fruit': 4924, 'propheci': 4925, 'curtain': 4926, '1985': 4927, 'porter': 4928, 'vain': 4929, 'sidewalk': 4930, 'abound': 4931, 'roar': 4932, 'poker': 4933, 'pepper': 4934, 'miniseri': 4935, 'blur': 4936, 'groan': 4937, 'comprehens': 4938, 'kiddi': 4939, 'unsuspect': 4940, 'walt': 4941, 'carmen': 4942, 'conan': 4943, 'galaxi': 4944, 'lauren': 4945, 'rosario': 4946, 'sacrif': 4947, 'cape': 4948, 'tokyo': 4949, 'bait': 4950, 'antonio': 4951, 'forgiven': 4952, 'id': 4953, 'genet': 4954, 'goldblum': 4955, 'ash': 4956, 'knee': 4957, 'relentless': 4958, 'paula': 4959, 'aussi': 4960, 'miami': 4961, 'palm': 4962, 'bsg': 4963, 'bravo': 4964, 'optimist': 4965, 'epitom': 4966, 'playboy': 4967, 'substanti': 4968, 'weaker': 4969, 'drone': 4970, 'handicap': 4971, 'motorcycl': 4972, 'verg': 4973, 'ghetto': 4974, 'rapidli': 4975, 'masterson': 4976, 'macabr': 4977, 'ingrid': 4978, 'orchestr': 4979, 'reincarn': 4980, 'incorrect': 4981, 'bach': 4982, '21st': 4983, 'detach': 4984, 'spill': 4985, 'weari': 4986, 'scariest': 4987, 'mice': 4988, 'cypher': 4989, 'hostil': 4990, 'asset': 4991, 'profil': 4992, 'dubiou': 4993, 'casper': 4994, 'omin': 4995, 'sophi': 4996, 'evan': 4997, 'assort': 4998, 'monti': 4999}\n"
     ]
    }
   ],
   "source": [
    "word_dict = build_dict(train_X)\n",
    "\n",
    "print(word_dict)"
   ]
  },
  {
   "cell_type": "markdown",
   "metadata": {},
   "source": [
    "**Question:** What are the five most frequently appearing (tokenized) words in the training set? Does it makes sense that these words appear frequently in the training set?"
   ]
  },
  {
   "cell_type": "markdown",
   "metadata": {},
   "source": [
    "**Answer:**\n",
    "\n",
    "The most common words are: ['movi', 'film', 'one', 'like', 'time'].  \n",
    "It is just most used words in mobie review. "
   ]
  },
  {
   "cell_type": "code",
   "execution_count": 19,
   "metadata": {},
   "outputs": [
    {
     "data": {
      "text/plain": [
       "['movi', 'film', 'one', 'like', 'time']"
      ]
     },
     "execution_count": 19,
     "metadata": {},
     "output_type": "execute_result"
    }
   ],
   "source": [
    "# TODO: Use this space to determine the five most frequently appearing words in the training set.\n",
    "keys = list(word_dict.keys())\n",
    "keys[:5]"
   ]
  },
  {
   "cell_type": "markdown",
   "metadata": {},
   "source": [
    "### Save `word_dict`\n",
    "\n",
    "Later on when we construct an endpoint which processes a submitted review we will need to make use of the `word_dict` which we have created. As such, we will save it to a file now for future use."
   ]
  },
  {
   "cell_type": "code",
   "execution_count": 20,
   "metadata": {},
   "outputs": [],
   "source": [
    "data_dir = '../data/pytorch' # The folder we will use for storing data\n",
    "if not os.path.exists(data_dir): # Make sure that the folder exists\n",
    "    os.makedirs(data_dir)"
   ]
  },
  {
   "cell_type": "code",
   "execution_count": 21,
   "metadata": {},
   "outputs": [],
   "source": [
    "with open(os.path.join(data_dir, 'word_dict.pkl'), \"wb\") as f:\n",
    "    pickle.dump(word_dict, f)"
   ]
  },
  {
   "cell_type": "markdown",
   "metadata": {},
   "source": [
    "### Transform the reviews\n",
    "\n",
    "Now that we have our word dictionary which allows us to transform the words appearing in the reviews into integers, it is time to make use of it and convert our reviews to their integer sequence representation, making sure to pad or truncate to a fixed length, which in our case is `500`."
   ]
  },
  {
   "cell_type": "code",
   "execution_count": 22,
   "metadata": {},
   "outputs": [],
   "source": [
    "def convert_and_pad(word_dict, sentence, pad=500):\n",
    "    NOWORD = 0 # We will use 0 to represent the 'no word' category\n",
    "    INFREQ = 1 # and we use 1 to represent the infrequent words, i.e., words not appearing in word_dict\n",
    "    \n",
    "    working_sentence = [NOWORD] * pad\n",
    "    \n",
    "    for word_index, word in enumerate(sentence[:pad]):\n",
    "        if word in word_dict:\n",
    "            working_sentence[word_index] = word_dict[word]\n",
    "        else:\n",
    "            working_sentence[word_index] = INFREQ\n",
    "            \n",
    "    return working_sentence, min(len(sentence), pad)\n",
    "\n",
    "def convert_and_pad_data(word_dict, data, pad=500):\n",
    "    result = []\n",
    "    lengths = []\n",
    "    \n",
    "    for sentence in data:\n",
    "        converted, leng = convert_and_pad(word_dict, sentence, pad)\n",
    "        result.append(converted)\n",
    "        lengths.append(leng)\n",
    "        \n",
    "    return np.array(result), np.array(lengths)"
   ]
  },
  {
   "cell_type": "code",
   "execution_count": 23,
   "metadata": {},
   "outputs": [],
   "source": [
    "train_X, train_X_len = convert_and_pad_data(word_dict, train_X)\n",
    "test_X, test_X_len = convert_and_pad_data(word_dict, test_X)"
   ]
  },
  {
   "cell_type": "markdown",
   "metadata": {},
   "source": [
    "As a quick check to make sure that things are working as intended, check to see what one of the reviews in the training set looks like after having been processeed. Does this look reasonable? What is the length of a review in the training set?"
   ]
  },
  {
   "cell_type": "code",
   "execution_count": 25,
   "metadata": {},
   "outputs": [
    {
     "name": "stdout",
     "output_type": "stream",
     "text": [
      "Train= [   1    1   34  164   74 3464    3    5    1    1    1   34  521    5\n",
      "    1    1    1    2    4  174    2   56   34    1  811  725    1    1\n",
      "    1    1    1    3   24    1  627   34    1    3   19  793   18  627\n",
      " 1263 1196  291    3   46  291    5    1 2951 3782  266   18  863  611\n",
      " 1178    3  128   14  387 1212    5 1187 1787   10   49 1425 3782    1\n",
      "    1    1    1   24   85    1   63  315   82  148    1    1  399   81\n",
      "    1    1  796    1    1  796    1    1  275    1 2004  275  463    1\n",
      "    1   27  275    0    0    0    0    0    0    0    0    0    0    0\n",
      "    0    0    0    0    0    0    0    0    0    0    0    0    0    0\n",
      "    0    0    0    0    0    0    0    0    0    0    0    0    0    0\n",
      "    0    0    0    0    0    0    0    0    0    0    0    0    0    0\n",
      "    0    0    0    0    0    0    0    0    0    0    0    0    0    0\n",
      "    0    0    0    0    0    0    0    0    0    0    0    0    0    0\n",
      "    0    0    0    0    0    0    0    0    0    0    0    0    0    0\n",
      "    0    0    0    0    0    0    0    0    0    0    0    0    0    0\n",
      "    0    0    0    0    0    0    0    0    0    0    0    0    0    0\n",
      "    0    0    0    0    0    0    0    0    0    0    0    0    0    0\n",
      "    0    0    0    0    0    0    0    0    0    0    0    0    0    0\n",
      "    0    0    0    0    0    0    0    0    0    0    0    0    0    0\n",
      "    0    0    0    0    0    0    0    0    0    0    0    0    0    0\n",
      "    0    0    0    0    0    0    0    0    0    0    0    0    0    0\n",
      "    0    0    0    0    0    0    0    0    0    0    0    0    0    0\n",
      "    0    0    0    0    0    0    0    0    0    0    0    0    0    0\n",
      "    0    0    0    0    0    0    0    0    0    0    0    0    0    0\n",
      "    0    0    0    0    0    0    0    0    0    0    0    0    0    0\n",
      "    0    0    0    0    0    0    0    0    0    0    0    0    0    0\n",
      "    0    0    0    0    0    0    0    0    0    0    0    0    0    0\n",
      "    0    0    0    0    0    0    0    0    0    0    0    0    0    0\n",
      "    0    0    0    0    0    0    0    0    0    0    0    0    0    0\n",
      "    0    0    0    0    0    0    0    0    0    0    0    0    0    0\n",
      "    0    0    0    0    0    0    0    0    0    0    0    0    0    0\n",
      "    0    0    0    0    0    0    0    0    0    0    0    0    0    0\n",
      "    0    0    0    0    0    0    0    0    0    0    0    0    0    0\n",
      "    0    0    0    0    0    0    0    0    0    0    0    0    0    0\n",
      "    0    0    0    0    0    0    0    0    0    0    0    0    0    0\n",
      "    0    0    0    0    0    0    0    0    0    0] \n",
      "\n",
      "The max length in train: 500 \n",
      "\n",
      "Test= [   1   76 2431    1  704  275  185   22   28  157    1  162 1271  795\n",
      "  245  490 2537    1    1 1883  158  128 2025 2675   29   69   80  690\n",
      "  638    1  496 4891  272  701 1764    1  294    1 3517 2852   97    1\n",
      "  292    1   32  474  455  473 2309  117    6  225  932  133   67   43\n",
      "  482   93  117 1223 1806 1223   87  482  117  877   43  694  143  596\n",
      "   44  231   36   69    2   67 1815    1 1039  213  225  944 3886    1\n",
      "    1  310   37    1 4891   12  231    2    1   34    1   44  411 2820\n",
      "  204 1115  225 2563  452   98 4742  813    1    1    1    1    1  538\n",
      "  402    1  480    1   67  495  119 1334  133    1 3886   10    1  165\n",
      "   43  242   32    1   24 1815    1  495   12  369    1  473   43    5\n",
      " 4891    1   63  474   31  512  482    4  163  108  922 1693    1 4891\n",
      "  122    0    0    0    0    0    0    0    0    0    0    0    0    0\n",
      "    0    0    0    0    0    0    0    0    0    0    0    0    0    0\n",
      "    0    0    0    0    0    0    0    0    0    0    0    0    0    0\n",
      "    0    0    0    0    0    0    0    0    0    0    0    0    0    0\n",
      "    0    0    0    0    0    0    0    0    0    0    0    0    0    0\n",
      "    0    0    0    0    0    0    0    0    0    0    0    0    0    0\n",
      "    0    0    0    0    0    0    0    0    0    0    0    0    0    0\n",
      "    0    0    0    0    0    0    0    0    0    0    0    0    0    0\n",
      "    0    0    0    0    0    0    0    0    0    0    0    0    0    0\n",
      "    0    0    0    0    0    0    0    0    0    0    0    0    0    0\n",
      "    0    0    0    0    0    0    0    0    0    0    0    0    0    0\n",
      "    0    0    0    0    0    0    0    0    0    0    0    0    0    0\n",
      "    0    0    0    0    0    0    0    0    0    0    0    0    0    0\n",
      "    0    0    0    0    0    0    0    0    0    0    0    0    0    0\n",
      "    0    0    0    0    0    0    0    0    0    0    0    0    0    0\n",
      "    0    0    0    0    0    0    0    0    0    0    0    0    0    0\n",
      "    0    0    0    0    0    0    0    0    0    0    0    0    0    0\n",
      "    0    0    0    0    0    0    0    0    0    0    0    0    0    0\n",
      "    0    0    0    0    0    0    0    0    0    0    0    0    0    0\n",
      "    0    0    0    0    0    0    0    0    0    0    0    0    0    0\n",
      "    0    0    0    0    0    0    0    0    0    0    0    0    0    0\n",
      "    0    0    0    0    0    0    0    0    0    0    0    0    0    0\n",
      "    0    0    0    0    0    0    0    0    0    0    0    0    0    0\n",
      "    0    0    0    0    0    0    0    0    0    0    0    0    0    0\n",
      "    0    0    0    0    0    0    0    0    0    0] \n",
      "\n",
      "The max length in test: 500\n"
     ]
    }
   ],
   "source": [
    "# Use this cell to examine one of the processed reviews to make sure everything is working as intended.\n",
    "print ('Train=',train_X[0],'\\n')\n",
    "print('The max length in train:',max(train_X_len),'\\n')\n",
    "\n",
    "print ('Test=',test_X[0],'\\n')\n",
    "print('The max length in test:',max(test_X_len))"
   ]
  },
  {
   "cell_type": "markdown",
   "metadata": {},
   "source": [
    "**Question:** In the cells above we use the `preprocess_data` and `convert_and_pad_data` methods to process both the training and testing set. Why or why not might this be a problem?"
   ]
  },
  {
   "cell_type": "markdown",
   "metadata": {},
   "source": [
    "**Answer:**\n",
    "\n",
    "We need the same size of matrixes for later neural network usage. "
   ]
  },
  {
   "cell_type": "markdown",
   "metadata": {},
   "source": [
    "## Step 3: Upload the data to S3\n",
    "\n",
    "As in the XGBoost notebook, we will need to upload the training dataset to S3 in order for our training code to access it. For now we will save it locally and we will upload to S3 later on.\n",
    "\n",
    "### Save the processed training dataset locally\n",
    "\n",
    "It is important to note the format of the data that we are saving as we will need to know it when we write the training code. In our case, each row of the dataset has the form `label`, `length`, `review[500]` where `review[500]` is a sequence of `500` integers representing the words in the review."
   ]
  },
  {
   "cell_type": "code",
   "execution_count": null,
   "metadata": {},
   "outputs": [],
   "source": [
    "import pandas as pd\n",
    "    \n",
    "pd.concat([pd.DataFrame(train_y), pd.DataFrame(train_X_len), pd.DataFrame(train_X)], axis=1) \\\n",
    "        .to_csv(os.path.join(data_dir, 'train.csv'), header=False, index=False)"
   ]
  },
  {
   "cell_type": "markdown",
   "metadata": {},
   "source": [
    "### Uploading the training data\n",
    "\n",
    "\n",
    "Next, we need to upload the training data to the SageMaker default S3 bucket so that we can provide access to it while training our model."
   ]
  },
  {
   "cell_type": "code",
   "execution_count": null,
   "metadata": {},
   "outputs": [],
   "source": [
    "import sagemaker\n",
    "\n",
    "sagemaker_session = sagemaker.Session()\n",
    "\n",
    "bucket = sagemaker_session.default_bucket()\n",
    "prefix = 'sagemaker/sentiment_rnn'\n",
    "\n",
    "role = sagemaker.get_execution_role()"
   ]
  },
  {
   "cell_type": "code",
   "execution_count": null,
   "metadata": {},
   "outputs": [],
   "source": [
    "input_data = sagemaker_session.upload_data(path=data_dir, bucket=bucket, key_prefix=prefix)"
   ]
  },
  {
   "cell_type": "markdown",
   "metadata": {},
   "source": [
    "**NOTE:** The cell above uploads the entire contents of our data directory. This includes the `word_dict.pkl` file. This is fortunate as we will need this later on when we create an endpoint that accepts an arbitrary review. For now, we will just take note of the fact that it resides in the data directory (and so also in the S3 training bucket) and that we will need to make sure it gets saved in the model directory."
   ]
  },
  {
   "cell_type": "markdown",
   "metadata": {},
   "source": [
    "## Step 4: Build and Train the PyTorch Model\n",
    "\n",
    "In the XGBoost notebook we discussed what a model is in the SageMaker framework. In particular, a model comprises three objects\n",
    "\n",
    " - Model Artifacts,\n",
    " - Training Code, and\n",
    " - Inference Code,\n",
    " \n",
    "each of which interact with one another. In the XGBoost example we used training and inference code that was provided by Amazon. Here we will still be using containers provided by Amazon with the added benefit of being able to include our own custom code.\n",
    "\n",
    "We will start by implementing our own neural network in PyTorch along with a training script. For the purposes of this project we have provided the necessary model object in the `model.py` file, inside of the `train` folder. You can see the provided implementation by running the cell below."
   ]
  },
  {
   "cell_type": "code",
   "execution_count": null,
   "metadata": {},
   "outputs": [],
   "source": [
    "!pygmentize train/model.py"
   ]
  },
  {
   "cell_type": "markdown",
   "metadata": {},
   "source": [
    "The important takeaway from the implementation provided is that there are three parameters that we may wish to tweak to improve the performance of our model. These are the embedding dimension, the hidden dimension and the size of the vocabulary. We will likely want to make these parameters configurable in the training script so that if we wish to modify them we do not need to modify the script itself. We will see how to do this later on. To start we will write some of the training code in the notebook so that we can more easily diagnose any issues that arise.\n",
    "\n",
    "First we will load a small portion of the training data set to use as a sample. It would be very time consuming to try and train the model completely in the notebook as we do not have access to a gpu and the compute instance that we are using is not particularly powerful. However, we can work on a small bit of the data to get a feel for how our training script is behaving."
   ]
  },
  {
   "cell_type": "code",
   "execution_count": null,
   "metadata": {},
   "outputs": [],
   "source": [
    "import torch\n",
    "import torch.utils.data\n",
    "\n",
    "# Read in only the first 250 rows\n",
    "train_sample = pd.read_csv(os.path.join(data_dir, 'train.csv'), header=None, names=None, nrows=250)\n",
    "\n",
    "# Turn the input pandas dataframe into tensors\n",
    "train_sample_y = torch.from_numpy(train_sample[[0]].values).float().squeeze()\n",
    "train_sample_X = torch.from_numpy(train_sample.drop([0], axis=1).values).long()\n",
    "\n",
    "# Build the dataset\n",
    "train_sample_ds = torch.utils.data.TensorDataset(train_sample_X, train_sample_y)\n",
    "# Build the dataloader\n",
    "train_sample_dl = torch.utils.data.DataLoader(train_sample_ds, batch_size=50)"
   ]
  },
  {
   "cell_type": "markdown",
   "metadata": {},
   "source": [
    "### (TODO) Writing the training method\n",
    "\n",
    "Next we need to write the training code itself. This should be very similar to training methods that you have written before to train PyTorch models. We will leave any difficult aspects such as model saving / loading and parameter loading until a little later."
   ]
  },
  {
   "cell_type": "code",
   "execution_count": null,
   "metadata": {},
   "outputs": [],
   "source": [
    "def train(model, train_loader, epochs, optimizer, loss_fn, device):\n",
    "    for epoch in range(1, epochs + 1):\n",
    "        model.train()\n",
    "        total_loss = 0\n",
    "        for batch in train_loader:         \n",
    "            batch_X, batch_y = batch\n",
    "            \n",
    "            batch_X = batch_X.to(device)\n",
    "            batch_y = batch_y.to(device)\n",
    "            \n",
    "            # TODO: Complete this train method to train the model provided.\n",
    "            \n",
    "            total_loss += loss.data.item()\n",
    "        print(\"Epoch: {}, BCELoss: {}\".format(epoch, total_loss / len(train_loader)))"
   ]
  },
  {
   "cell_type": "markdown",
   "metadata": {},
   "source": [
    "Supposing we have the training method above, we will test that it is working by writing a bit of code in the notebook that executes our training method on the small sample training set that we loaded earlier. The reason for doing this in the notebook is so that we have an opportunity to fix any errors that arise early when they are easier to diagnose."
   ]
  },
  {
   "cell_type": "code",
   "execution_count": null,
   "metadata": {},
   "outputs": [],
   "source": [
    "import torch.optim as optim\n",
    "from train.model import LSTMClassifier\n",
    "\n",
    "device = torch.device(\"cuda\" if torch.cuda.is_available() else \"cpu\")\n",
    "model = LSTMClassifier(32, 100, 5000).to(device)\n",
    "optimizer = optim.Adam(model.parameters())\n",
    "loss_fn = torch.nn.BCELoss()\n",
    "\n",
    "train(model, train_sample_dl, 5, optimizer, loss_fn, device)"
   ]
  },
  {
   "cell_type": "markdown",
   "metadata": {},
   "source": [
    "In order to construct a PyTorch model using SageMaker we must provide SageMaker with a training script. We may optionally include a directory which will be copied to the container and from which our training code will be run. When the training container is executed it will check the uploaded directory (if there is one) for a `requirements.txt` file and install any required Python libraries, after which the training script will be run."
   ]
  },
  {
   "cell_type": "markdown",
   "metadata": {},
   "source": [
    "### (TODO) Training the model\n",
    "\n",
    "When a PyTorch model is constructed in SageMaker, an entry point must be specified. This is the Python file which will be executed when the model is trained. Inside of the `train` directory is a file called `train.py` which has been provided and which contains most of the necessary code to train our model. The only thing that is missing is the implementation of the `train()` method which you wrote earlier in this notebook.\n",
    "\n",
    "**TODO**: Copy the `train()` method written above and paste it into the `train/train.py` file where required.\n",
    "\n",
    "The way that SageMaker passes hyperparameters to the training script is by way of arguments. These arguments can then be parsed and used in the training script. To see how this is done take a look at the provided `train/train.py` file."
   ]
  },
  {
   "cell_type": "code",
   "execution_count": null,
   "metadata": {},
   "outputs": [],
   "source": [
    "from sagemaker.pytorch import PyTorch\n",
    "\n",
    "estimator = PyTorch(entry_point=\"train.py\",\n",
    "                    source_dir=\"train\",\n",
    "                    role=role,\n",
    "                    framework_version='0.4.0',\n",
    "                    train_instance_count=1,\n",
    "                    train_instance_type='ml.p2.xlarge',\n",
    "                    hyperparameters={\n",
    "                        'epochs': 10,\n",
    "                        'hidden_dim': 200,\n",
    "                    })"
   ]
  },
  {
   "cell_type": "code",
   "execution_count": null,
   "metadata": {},
   "outputs": [],
   "source": [
    "estimator.fit({'training': input_data})"
   ]
  },
  {
   "cell_type": "markdown",
   "metadata": {},
   "source": [
    "## Step 5: Testing the model\n",
    "\n",
    "As mentioned at the top of this notebook, we will be testing this model by first deploying it and then sending the testing data to the deployed endpoint. We will do this so that we can make sure that the deployed model is working correctly.\n",
    "\n",
    "## Step 6: Deploy the model for testing\n",
    "\n",
    "Now that we have trained our model, we would like to test it to see how it performs. Currently our model takes input of the form `review_length, review[500]` where `review[500]` is a sequence of `500` integers which describe the words present in the review, encoded using `word_dict`. Fortunately for us, SageMaker provides built-in inference code for models with simple inputs such as this.\n",
    "\n",
    "There is one thing that we need to provide, however, and that is a function which loads the saved model. This function must be called `model_fn()` and takes as its only parameter a path to the directory where the model artifacts are stored. This function must also be present in the python file which we specified as the entry point. In our case the model loading function has been provided and so no changes need to be made.\n",
    "\n",
    "**NOTE**: When the built-in inference code is run it must import the `model_fn()` method from the `train.py` file. This is why the training code is wrapped in a main guard ( ie, `if __name__ == '__main__':` )\n",
    "\n",
    "Since we don't need to change anything in the code that was uploaded during training, we can simply deploy the current model as-is.\n",
    "\n",
    "**NOTE:** When deploying a model you are asking SageMaker to launch an compute instance that will wait for data to be sent to it. As a result, this compute instance will continue to run until *you* shut it down. This is important to know since the cost of a deployed endpoint depends on how long it has been running for.\n",
    "\n",
    "In other words **If you are no longer using a deployed endpoint, shut it down!**\n",
    "\n",
    "**TODO:** Deploy the trained model."
   ]
  },
  {
   "cell_type": "code",
   "execution_count": null,
   "metadata": {},
   "outputs": [],
   "source": [
    "# TODO: Deploy the trained model"
   ]
  },
  {
   "cell_type": "markdown",
   "metadata": {},
   "source": [
    "## Step 7 - Use the model for testing\n",
    "\n",
    "Once deployed, we can read in the test data and send it off to our deployed model to get some results. Once we collect all of the results we can determine how accurate our model is."
   ]
  },
  {
   "cell_type": "code",
   "execution_count": null,
   "metadata": {},
   "outputs": [],
   "source": [
    "test_X = pd.concat([pd.DataFrame(test_X_len), pd.DataFrame(test_X)], axis=1)"
   ]
  },
  {
   "cell_type": "code",
   "execution_count": null,
   "metadata": {},
   "outputs": [],
   "source": [
    "# We split the data into chunks and send each chunk seperately, accumulating the results.\n",
    "\n",
    "def predict(data, rows=512):\n",
    "    split_array = np.array_split(data, int(data.shape[0] / float(rows) + 1))\n",
    "    predictions = np.array([])\n",
    "    for array in split_array:\n",
    "        predictions = np.append(predictions, predictor.predict(array))\n",
    "    \n",
    "    return predictions"
   ]
  },
  {
   "cell_type": "code",
   "execution_count": null,
   "metadata": {},
   "outputs": [],
   "source": [
    "predictions = predict(test_X.values)\n",
    "predictions = [round(num) for num in predictions]"
   ]
  },
  {
   "cell_type": "code",
   "execution_count": null,
   "metadata": {},
   "outputs": [],
   "source": [
    "from sklearn.metrics import accuracy_score\n",
    "accuracy_score(test_y, predictions)"
   ]
  },
  {
   "cell_type": "markdown",
   "metadata": {},
   "source": [
    "**Question:** How does this model compare to the XGBoost model you created earlier? Why might these two models perform differently on this dataset? Which do *you* think is better for sentiment analysis?"
   ]
  },
  {
   "cell_type": "markdown",
   "metadata": {},
   "source": [
    "**Answer:**"
   ]
  },
  {
   "cell_type": "markdown",
   "metadata": {},
   "source": [
    "### (TODO) More testing\n",
    "\n",
    "We now have a trained model which has been deployed and which we can send processed reviews to and which returns the predicted sentiment. However, ultimately we would like to be able to send our model an unprocessed review. That is, we would like to send the review itself as a string. For example, suppose we wish to send the following review to our model."
   ]
  },
  {
   "cell_type": "code",
   "execution_count": null,
   "metadata": {},
   "outputs": [],
   "source": [
    "test_review = 'The simplest pleasures in life are the best, and this film is one of them. Combining a rather basic storyline of love and adventure this movie transcends the usual weekend fair with wit and unmitigated charm.'"
   ]
  },
  {
   "cell_type": "markdown",
   "metadata": {},
   "source": [
    "The question we now need to answer is, how do we send this review to our model?\n",
    "\n",
    "Recall in the first section of this notebook we did a bunch of data processing to the IMDb dataset. In particular, we did two specific things to the provided reviews.\n",
    " - Removed any html tags and stemmed the input\n",
    " - Encoded the review as a sequence of integers using `word_dict`\n",
    " \n",
    "In order process the review we will need to repeat these two steps.\n",
    "\n",
    "**TODO**: Using the `review_to_words` and `convert_and_pad` methods from section one, convert `test_review` into a numpy array `test_data` suitable to send to our model. Remember that our model expects input of the form `review_length, review[500]`."
   ]
  },
  {
   "cell_type": "code",
   "execution_count": null,
   "metadata": {},
   "outputs": [],
   "source": [
    "# TODO: Convert test_review into a form usable by the model and save the results in test_data\n",
    "test_data = None"
   ]
  },
  {
   "cell_type": "markdown",
   "metadata": {},
   "source": [
    "Now that we have processed the review, we can send the resulting array to our model to predict the sentiment of the review."
   ]
  },
  {
   "cell_type": "code",
   "execution_count": null,
   "metadata": {},
   "outputs": [],
   "source": [
    "predictor.predict(test_data)"
   ]
  },
  {
   "cell_type": "markdown",
   "metadata": {},
   "source": [
    "Since the return value of our model is close to `1`, we can be certain that the review we submitted is positive."
   ]
  },
  {
   "cell_type": "markdown",
   "metadata": {},
   "source": [
    "### Delete the endpoint\n",
    "\n",
    "Of course, just like in the XGBoost notebook, once we've deployed an endpoint it continues to run until we tell it to shut down. Since we are done using our endpoint for now, we can delete it."
   ]
  },
  {
   "cell_type": "code",
   "execution_count": null,
   "metadata": {},
   "outputs": [],
   "source": [
    "estimator.delete_endpoint()"
   ]
  },
  {
   "cell_type": "markdown",
   "metadata": {},
   "source": [
    "## Step 6 (again) - Deploy the model for the web app\n",
    "\n",
    "Now that we know that our model is working, it's time to create some custom inference code so that we can send the model a review which has not been processed and have it determine the sentiment of the review.\n",
    "\n",
    "As we saw above, by default the estimator which we created, when deployed, will use the entry script and directory which we provided when creating the model. However, since we now wish to accept a string as input and our model expects a processed review, we need to write some custom inference code.\n",
    "\n",
    "We will store the code that we write in the `serve` directory. Provided in this directory is the `model.py` file that we used to construct our model, a `utils.py` file which contains the `review_to_words` and `convert_and_pad` pre-processing functions which we used during the initial data processing, and `predict.py`, the file which will contain our custom inference code. Note also that `requirements.txt` is present which will tell SageMaker what Python libraries are required by our custom inference code.\n",
    "\n",
    "When deploying a PyTorch model in SageMaker, you are expected to provide four functions which the SageMaker inference container will use.\n",
    " - `model_fn`: This function is the same function that we used in the training script and it tells SageMaker how to load our model.\n",
    " - `input_fn`: This function receives the raw serialized input that has been sent to the model's endpoint and its job is to de-serialize and make the input available for the inference code.\n",
    " - `output_fn`: This function takes the output of the inference code and its job is to serialize this output and return it to the caller of the model's endpoint.\n",
    " - `predict_fn`: The heart of the inference script, this is where the actual prediction is done and is the function which you will need to complete.\n",
    "\n",
    "For the simple website that we are constructing during this project, the `input_fn` and `output_fn` methods are relatively straightforward. We only require being able to accept a string as input and we expect to return a single value as output. You might imagine though that in a more complex application the input or output may be image data or some other binary data which would require some effort to serialize.\n",
    "\n",
    "### (TODO) Writing inference code\n",
    "\n",
    "Before writing our custom inference code, we will begin by taking a look at the code which has been provided."
   ]
  },
  {
   "cell_type": "code",
   "execution_count": null,
   "metadata": {},
   "outputs": [],
   "source": [
    "!pygmentize serve/predict.py"
   ]
  },
  {
   "cell_type": "markdown",
   "metadata": {},
   "source": [
    "As mentioned earlier, the `model_fn` method is the same as the one provided in the training code and the `input_fn` and `output_fn` methods are very simple and your task will be to complete the `predict_fn` method. Make sure that you save the completed file as `predict.py` in the `serve` directory.\n",
    "\n",
    "**TODO**: Complete the `predict_fn()` method in the `serve/predict.py` file."
   ]
  },
  {
   "cell_type": "markdown",
   "metadata": {},
   "source": [
    "### Deploying the model\n",
    "\n",
    "Now that the custom inference code has been written, we will create and deploy our model. To begin with, we need to construct a new PyTorchModel object which points to the model artifacts created during training and also points to the inference code that we wish to use. Then we can call the deploy method to launch the deployment container.\n",
    "\n",
    "**NOTE**: The default behaviour for a deployed PyTorch model is to assume that any input passed to the predictor is a `numpy` array. In our case we want to send a string so we need to construct a simple wrapper around the `RealTimePredictor` class to accomodate simple strings. In a more complicated situation you may want to provide a serialization object, for example if you wanted to sent image data."
   ]
  },
  {
   "cell_type": "code",
   "execution_count": null,
   "metadata": {},
   "outputs": [],
   "source": [
    "from sagemaker.predictor import RealTimePredictor\n",
    "from sagemaker.pytorch import PyTorchModel\n",
    "\n",
    "class StringPredictor(RealTimePredictor):\n",
    "    def __init__(self, endpoint_name, sagemaker_session):\n",
    "        super(StringPredictor, self).__init__(endpoint_name, sagemaker_session, content_type='text/plain')\n",
    "\n",
    "model = PyTorchModel(model_data=estimator.model_data,\n",
    "                     role = role,\n",
    "                     framework_version='0.4.0',\n",
    "                     entry_point='predict.py',\n",
    "                     source_dir='serve',\n",
    "                     predictor_cls=StringPredictor)\n",
    "predictor = model.deploy(initial_instance_count=1, instance_type='ml.m4.xlarge')"
   ]
  },
  {
   "cell_type": "markdown",
   "metadata": {},
   "source": [
    "### Testing the model\n",
    "\n",
    "Now that we have deployed our model with the custom inference code, we should test to see if everything is working. Here we test our model by loading the first `250` positive and negative reviews and send them to the endpoint, then collect the results. The reason for only sending some of the data is that the amount of time it takes for our model to process the input and then perform inference is quite long and so testing the entire data set would be prohibitive."
   ]
  },
  {
   "cell_type": "code",
   "execution_count": null,
   "metadata": {},
   "outputs": [],
   "source": [
    "import glob\n",
    "\n",
    "def test_reviews(data_dir='../data/aclImdb', stop=250):\n",
    "    \n",
    "    results = []\n",
    "    ground = []\n",
    "    \n",
    "    # We make sure to test both positive and negative reviews    \n",
    "    for sentiment in ['pos', 'neg']:\n",
    "        \n",
    "        path = os.path.join(data_dir, 'test', sentiment, '*.txt')\n",
    "        files = glob.glob(path)\n",
    "        \n",
    "        files_read = 0\n",
    "        \n",
    "        print('Starting ', sentiment, ' files')\n",
    "        \n",
    "        # Iterate through the files and send them to the predictor\n",
    "        for f in files:\n",
    "            with open(f) as review:\n",
    "                # First, we store the ground truth (was the review positive or negative)\n",
    "                if sentiment == 'pos':\n",
    "                    ground.append(1)\n",
    "                else:\n",
    "                    ground.append(0)\n",
    "                # Read in the review and convert to 'utf-8' for transmission via HTTP\n",
    "                review_input = review.read().encode('utf-8')\n",
    "                # Send the review to the predictor and store the results\n",
    "                results.append(int(predictor.predict(review_input)))\n",
    "                \n",
    "            # Sending reviews to our endpoint one at a time takes a while so we\n",
    "            # only send a small number of reviews\n",
    "            files_read += 1\n",
    "            if files_read == stop:\n",
    "                break\n",
    "            \n",
    "    return ground, results"
   ]
  },
  {
   "cell_type": "code",
   "execution_count": null,
   "metadata": {},
   "outputs": [],
   "source": [
    "ground, results = test_reviews()"
   ]
  },
  {
   "cell_type": "code",
   "execution_count": null,
   "metadata": {},
   "outputs": [],
   "source": [
    "from sklearn.metrics import accuracy_score\n",
    "accuracy_score(ground, results)"
   ]
  },
  {
   "cell_type": "markdown",
   "metadata": {},
   "source": [
    "As an additional test, we can try sending the `test_review` that we looked at earlier."
   ]
  },
  {
   "cell_type": "code",
   "execution_count": null,
   "metadata": {},
   "outputs": [],
   "source": [
    "predictor.predict(test_review)"
   ]
  },
  {
   "cell_type": "markdown",
   "metadata": {},
   "source": [
    "Now that we know our endpoint is working as expected, we can set up the web page that will interact with it. If you don't have time to finish the project now, make sure to skip down to the end of this notebook and shut down your endpoint. You can deploy it again when you come back."
   ]
  },
  {
   "cell_type": "markdown",
   "metadata": {},
   "source": [
    "## Step 7 (again): Use the model for the web app\n",
    "\n",
    "> **TODO:** This entire section and the next contain tasks for you to complete, mostly using the AWS console.\n",
    "\n",
    "So far we have been accessing our model endpoint by constructing a predictor object which uses the endpoint and then just using the predictor object to perform inference. What if we wanted to create a web app which accessed our model? The way things are set up currently makes that not possible since in order to access a SageMaker endpoint the app would first have to authenticate with AWS using an IAM role which included access to SageMaker endpoints. However, there is an easier way! We just need to use some additional AWS services.\n",
    "\n",
    "<img src=\"Web App Diagram.svg\">\n",
    "\n",
    "The diagram above gives an overview of how the various services will work together. On the far right is the model which we trained above and which is deployed using SageMaker. On the far left is our web app that collects a user's movie review, sends it off and expects a positive or negative sentiment in return.\n",
    "\n",
    "In the middle is where some of the magic happens. We will construct a Lambda function, which you can think of as a straightforward Python function that can be executed whenever a specified event occurs. We will give this function permission to send and recieve data from a SageMaker endpoint.\n",
    "\n",
    "Lastly, the method we will use to execute the Lambda function is a new endpoint that we will create using API Gateway. This endpoint will be a url that listens for data to be sent to it. Once it gets some data it will pass that data on to the Lambda function and then return whatever the Lambda function returns. Essentially it will act as an interface that lets our web app communicate with the Lambda function.\n",
    "\n",
    "### Setting up a Lambda function\n",
    "\n",
    "The first thing we are going to do is set up a Lambda function. This Lambda function will be executed whenever our public API has data sent to it. When it is executed it will receive the data, perform any sort of processing that is required, send the data (the review) to the SageMaker endpoint we've created and then return the result.\n",
    "\n",
    "#### Part A: Create an IAM Role for the Lambda function\n",
    "\n",
    "Since we want the Lambda function to call a SageMaker endpoint, we need to make sure that it has permission to do so. To do this, we will construct a role that we can later give the Lambda function.\n",
    "\n",
    "Using the AWS Console, navigate to the **IAM** page and click on **Roles**. Then, click on **Create role**. Make sure that the **AWS service** is the type of trusted entity selected and choose **Lambda** as the service that will use this role, then click **Next: Permissions**.\n",
    "\n",
    "In the search box type `sagemaker` and select the check box next to the **AmazonSageMakerFullAccess** policy. Then, click on **Next: Review**.\n",
    "\n",
    "Lastly, give this role a name. Make sure you use a name that you will remember later on, for example `LambdaSageMakerRole`. Then, click on **Create role**.\n",
    "\n",
    "#### Part B: Create a Lambda function\n",
    "\n",
    "Now it is time to actually create the Lambda function.\n",
    "\n",
    "Using the AWS Console, navigate to the AWS Lambda page and click on **Create a function**. When you get to the next page, make sure that **Author from scratch** is selected. Now, name your Lambda function, using a name that you will remember later on, for example `sentiment_analysis_func`. Make sure that the **Python 3.6** runtime is selected and then choose the role that you created in the previous part. Then, click on **Create Function**.\n",
    "\n",
    "On the next page you will see some information about the Lambda function you've just created. If you scroll down you should see an editor in which you can write the code that will be executed when your Lambda function is triggered. In our example, we will use the code below. \n",
    "\n",
    "```python\n",
    "# We need to use the low-level library to interact with SageMaker since the SageMaker API\n",
    "# is not available natively through Lambda.\n",
    "import boto3\n",
    "\n",
    "def lambda_handler(event, context):\n",
    "\n",
    "    # The SageMaker runtime is what allows us to invoke the endpoint that we've created.\n",
    "    runtime = boto3.Session().client('sagemaker-runtime')\n",
    "\n",
    "    # Now we use the SageMaker runtime to invoke our endpoint, sending the review we were given\n",
    "    response = runtime.invoke_endpoint(EndpointName = '**ENDPOINT NAME HERE**',    # The name of the endpoint we created\n",
    "                                       ContentType = 'text/plain',                 # The data format that is expected\n",
    "                                       Body = event['body'])                       # The actual review\n",
    "\n",
    "    # The response is an HTTP response whose body contains the result of our inference\n",
    "    result = response['Body'].read().decode('utf-8')\n",
    "\n",
    "    return {\n",
    "        'statusCode' : 200,\n",
    "        'headers' : { 'Content-Type' : 'text/plain', 'Access-Control-Allow-Origin' : '*' },\n",
    "        'body' : result\n",
    "    }\n",
    "```\n",
    "\n",
    "Once you have copy and pasted the code above into the Lambda code editor, replace the `**ENDPOINT NAME HERE**` portion with the name of the endpoint that we deployed earlier. You can determine the name of the endpoint using the code cell below."
   ]
  },
  {
   "cell_type": "code",
   "execution_count": null,
   "metadata": {},
   "outputs": [],
   "source": [
    "predictor.endpoint"
   ]
  },
  {
   "cell_type": "markdown",
   "metadata": {},
   "source": [
    "Once you have added the endpoint name to the Lambda function, click on **Save**. Your Lambda function is now up and running. Next we need to create a way for our web app to execute the Lambda function.\n",
    "\n",
    "### Setting up API Gateway\n",
    "\n",
    "Now that our Lambda function is set up, it is time to create a new API using API Gateway that will trigger the Lambda function we have just created.\n",
    "\n",
    "Using AWS Console, navigate to **Amazon API Gateway** and then click on **Get started**.\n",
    "\n",
    "On the next page, make sure that **New API** is selected and give the new api a name, for example, `sentiment_analysis_api`. Then, click on **Create API**.\n",
    "\n",
    "Now we have created an API, however it doesn't currently do anything. What we want it to do is to trigger the Lambda function that we created earlier.\n",
    "\n",
    "Select the **Actions** dropdown menu and click **Create Method**. A new blank method will be created, select its dropdown menu and select **POST**, then click on the check mark beside it.\n",
    "\n",
    "For the integration point, make sure that **Lambda Function** is selected and click on the **Use Lambda Proxy integration**. This option makes sure that the data that is sent to the API is then sent directly to the Lambda function with no processing. It also means that the return value must be a proper response object as it will also not be processed by API Gateway.\n",
    "\n",
    "Type the name of the Lambda function you created earlier into the **Lambda Function** text entry box and then click on **Save**. Click on **OK** in the pop-up box that then appears, giving permission to API Gateway to invoke the Lambda function you created.\n",
    "\n",
    "The last step in creating the API Gateway is to select the **Actions** dropdown and click on **Deploy API**. You will need to create a new Deployment stage and name it anything you like, for example `prod`.\n",
    "\n",
    "You have now successfully set up a public API to access your SageMaker model. Make sure to copy or write down the URL provided to invoke your newly created public API as this will be needed in the next step. This URL can be found at the top of the page, highlighted in blue next to the text **Invoke URL**."
   ]
  },
  {
   "cell_type": "markdown",
   "metadata": {},
   "source": [
    "## Step 4: Deploying our web app\n",
    "\n",
    "Now that we have a publicly available API, we can start using it in a web app. For our purposes, we have provided a simple static html file which can make use of the public api you created earlier.\n",
    "\n",
    "In the `website` folder there should be a file called `index.html`. Download the file to your computer and open that file up in a text editor of your choice. There should be a line which contains **\\*\\*REPLACE WITH PUBLIC API URL\\*\\***. Replace this string with the url that you wrote down in the last step and then save the file.\n",
    "\n",
    "Now, if you open `index.html` on your local computer, your browser will behave as a local web server and you can use the provided site to interact with your SageMaker model.\n",
    "\n",
    "If you'd like to go further, you can host this html file anywhere you'd like, for example using github or hosting a static site on Amazon's S3. Once you have done this you can share the link with anyone you'd like and have them play with it too!\n",
    "\n",
    "> **Important Note** In order for the web app to communicate with the SageMaker endpoint, the endpoint has to actually be deployed and running. This means that you are paying for it. Make sure that the endpoint is running when you want to use the web app but that you shut it down when you don't need it, otherwise you will end up with a surprisingly large AWS bill.\n",
    "\n",
    "**TODO:** Make sure that you include the edited `index.html` file in your project submission."
   ]
  },
  {
   "cell_type": "markdown",
   "metadata": {},
   "source": [
    "Now that your web app is working, trying playing around with it and see how well it works.\n",
    "\n",
    "**Question**: Give an example of a review that you entered into your web app. What was the predicted sentiment of your example review?"
   ]
  },
  {
   "cell_type": "markdown",
   "metadata": {},
   "source": [
    "**Answer:**"
   ]
  },
  {
   "cell_type": "markdown",
   "metadata": {},
   "source": [
    "### Delete the endpoint\n",
    "\n",
    "Remember to always shut down your endpoint if you are no longer using it. You are charged for the length of time that the endpoint is running so if you forget and leave it on you could end up with an unexpectedly large bill."
   ]
  },
  {
   "cell_type": "code",
   "execution_count": null,
   "metadata": {},
   "outputs": [],
   "source": [
    "predictor.delete_endpoint()"
   ]
  },
  {
   "cell_type": "code",
   "execution_count": null,
   "metadata": {},
   "outputs": [],
   "source": []
  }
 ],
 "metadata": {
  "kernelspec": {
   "display_name": "conda_pytorch_p36",
   "language": "python",
   "name": "conda_pytorch_p36"
  },
  "language_info": {
   "codemirror_mode": {
    "name": "ipython",
    "version": 3
   },
   "file_extension": ".py",
   "mimetype": "text/x-python",
   "name": "python",
   "nbconvert_exporter": "python",
   "pygments_lexer": "ipython3",
   "version": "3.6.5"
  }
 },
 "nbformat": 4,
 "nbformat_minor": 2
}
